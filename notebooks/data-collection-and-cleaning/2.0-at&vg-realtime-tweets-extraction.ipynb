{
 "cells": [
  {
   "cell_type": "markdown",
   "metadata": {},
   "source": [
    "# \"Live\" Tweets from Stream API using Tweepy Library <br>\n",
    "\n",
    "_Authors: Amy Taylor and Veronica Giannotta_ <br>\n"
   ]
  },
  {
   "cell_type": "markdown",
   "metadata": {},
   "source": [
    "Preliminary steps before using Twitter's API:\n",
    "1. Sign-up for a twitter account\n",
    "2. Register a twitter developer account (requires email or phone number)\n",
    "3. Create a developer app (I went with the name BlockedRoads)\n",
    "4. Obtain your 'Access token' and 'access token secret' in the developer dashboard"
   ]
  },
  {
   "cell_type": "markdown",
   "metadata": {},
   "source": [
    "## Part 1: Pull Live Tweets from Twitter using Tweepy and Streaming API - StreamListener\n",
    "\n",
    "Some resources:\n",
    "http://socialmedia-class.org/twittertutorial.html\n",
    "<br>https://www.dataquest.io/blog/streaming-data-python/\n"
   ]
  },
  {
   "cell_type": "markdown",
   "metadata": {},
   "source": [
    "**Step 1: In terminal run:** `! pip install tweepy`"
   ]
  },
  {
   "cell_type": "markdown",
   "metadata": {},
   "source": [
    "**Step 2: Load imports**"
   ]
  },
  {
   "cell_type": "code",
   "execution_count": 2,
   "metadata": {},
   "outputs": [],
   "source": [
    "import pandas as pd\n",
    "import tweepy\n",
    "import json\n",
    "import datetime\n",
    "from tweepy.streaming import StreamListener\n",
    "import shutil\n",
    "import config"
   ]
  },
  {
   "cell_type": "markdown",
   "metadata": {},
   "source": [
    "**Step 2: Authenticate Twitter Credentials through Tweepy**"
   ]
  },
  {
   "cell_type": "code",
   "execution_count": 4,
   "metadata": {},
   "outputs": [],
   "source": [
    "# authenticate account with tweepy\n",
    "auth = tweepy.OAuthHandler(config.consumer_key, config.consumer_secret)\n",
    "auth.set_access_token(config.access_key, config.access_secret)\n",
    "\n",
    "# create API object to pull data from twitter - and pass in code!\n",
    "api = tweepy.API(auth, wait_on_rate_limit=True, wait_on_rate_limit_notify=True)\n",
    "\n",
    "# now we should be free to make twitter api calls!"
   ]
  },
  {
   "cell_type": "markdown",
   "metadata": {},
   "source": [
    "**Step 3: Verify API is working with your account**"
   ]
  },
  {
   "cell_type": "code",
   "execution_count": 5,
   "metadata": {},
   "outputs": [
    {
     "name": "stdout",
     "output_type": "stream",
     "text": [
      "amy taylor\n"
     ]
    }
   ],
   "source": [
    "# check if program is working - output is your twitter name\n",
    "user = api.me()\n",
    "print (user.name)"
   ]
  },
  {
   "cell_type": "code",
   "execution_count": 5,
   "metadata": {},
   "outputs": [],
   "source": [
    "# To send a Tweet from your account (assuming you allowed your app to have read/write permissions):\n",
    "# api.update_status(status = \"Hey, I'm tweeting with Tweepy!\")"
   ]
  },
  {
   "cell_type": "markdown",
   "metadata": {},
   "source": [
    "**Step 4: Instantiate the StreamListener class and start pulling tweets**\n",
    "- Specify how tweets are downloaded inside the `on_status` or `on_data` class method\n",
    "- `stream.filter` starts the download. Specify your search words with the `track` parameter\n",
    "- To stop the live stream, **kernel interrupt the codeblock**\n",
    "- Continue to Part 2 to save the tweets into a json file"
   ]
  },
  {
   "cell_type": "code",
   "execution_count": null,
   "metadata": {},
   "outputs": [],
   "source": [
    "class StreamListener(tweepy.StreamListener):            \n",
    "    def on_data(self, status):   \n",
    "        try:\n",
    "            with open('../data/AT_stream/scrape.json', 'a') as f:\n",
    "                f.write(status)\n",
    "        except:\n",
    "            print(\"Could not open file log\")\n",
    "        \n",
    "         \n",
    "    def on_error(self, status_code):\n",
    "        if status_code == 420:\n",
    "            return False\n",
    "\n",
    "        \n",
    "stream_listener = StreamListener()\n",
    "stream = tweepy.Stream(auth=auth, listener= stream_listener)\n",
    "# starts the stream\n",
    "stream.filter(track=[ \"road closed\", \"roads closed\", \"road blocked\", \"street blocked\", \"roadclosed\"])"
   ]
  },
  {
   "cell_type": "markdown",
   "metadata": {},
   "source": [
    "## Part 2: Save Tweet to a JSON file"
   ]
  },
  {
   "cell_type": "code",
   "execution_count": 11,
   "metadata": {},
   "outputs": [],
   "source": [
    "def file_conversion():\n",
    "    #create a timestamp\n",
    "    now = datetime.datetime.now()\n",
    "    month = '0'+str(now.month)\n",
    "    day = str(now.day)\n",
    "    hour = str(now.hour)\n",
    "    minute = str(now.minute)\n",
    "    now_str = str(now.year)+month+day+'_'+hour+'_'+minute\n",
    "    \n",
    "    \n",
    "    #replace the name of our file with a new timestamped filename\n",
    "    dest = '../data/AT_stream/scrape_' + now_str + \".json\"\n",
    "    shutil.move('../data/AT_stream/scrape.json', dest)\n",
    "    \n",
    "    with open(dest, \"r\") as f:\n",
    "        status = f.readlines()\n",
    "        jsons = []\n",
    "        for ind in status:\n",
    "            jsons.append(json.loads(ind))\n",
    "    return jsons\n",
    "\n",
    "# Uncomment out the file_conversion function to activate the file name change\n",
    "# file_conversion()"
   ]
  },
  {
   "cell_type": "markdown",
   "metadata": {},
   "source": [
    "**Table of most recent stream downloads**\n",
    "\n",
    "|Stream| params| json file| # of tweets |search terms|\n",
    "|---| --- | --- | --- | ---|\n",
    "|1| tweet_mode='extended'| './scrape_20190115_11_28.json' | 1| track1|\n",
    "|2| none?| './scrape_20190116_12_15.json'  | 4| track1|\n",
    "\n",
    "track1 =[ \"road closed\", \"roads closed\", \"road blocked\", \"street blocked\", \"roadclosed\"]\n"
   ]
  },
  {
   "cell_type": "code",
   "execution_count": 6,
   "metadata": {},
   "outputs": [],
   "source": [
    "# Previously created json files\n",
    "# json_df = pd.read_json(\"../data/AT_stream/scrape_20190116_11_28.json\", lines = True)\n",
    "json_df = pd.read_json(\"../data/AT_stream/scrape_20190116_12_15.json\", lines = True)"
   ]
  },
  {
   "cell_type": "code",
   "execution_count": 7,
   "metadata": {},
   "outputs": [
    {
     "name": "stdout",
     "output_type": "stream",
     "text": [
      "(4, 32)\n"
     ]
    },
    {
     "data": {
      "text/html": [
       "<div>\n",
       "<style scoped>\n",
       "    .dataframe tbody tr th:only-of-type {\n",
       "        vertical-align: middle;\n",
       "    }\n",
       "\n",
       "    .dataframe tbody tr th {\n",
       "        vertical-align: top;\n",
       "    }\n",
       "\n",
       "    .dataframe thead th {\n",
       "        text-align: right;\n",
       "    }\n",
       "</style>\n",
       "<table border=\"1\" class=\"dataframe\">\n",
       "  <thead>\n",
       "    <tr style=\"text-align: right;\">\n",
       "      <th></th>\n",
       "      <th>contributors</th>\n",
       "      <th>coordinates</th>\n",
       "      <th>created_at</th>\n",
       "      <th>entities</th>\n",
       "      <th>favorite_count</th>\n",
       "      <th>favorited</th>\n",
       "      <th>filter_level</th>\n",
       "      <th>geo</th>\n",
       "      <th>id</th>\n",
       "      <th>id_str</th>\n",
       "      <th>...</th>\n",
       "      <th>quoted_status_permalink</th>\n",
       "      <th>reply_count</th>\n",
       "      <th>retweet_count</th>\n",
       "      <th>retweeted</th>\n",
       "      <th>retweeted_status</th>\n",
       "      <th>source</th>\n",
       "      <th>text</th>\n",
       "      <th>timestamp_ms</th>\n",
       "      <th>truncated</th>\n",
       "      <th>user</th>\n",
       "    </tr>\n",
       "  </thead>\n",
       "  <tbody>\n",
       "    <tr>\n",
       "      <th>0</th>\n",
       "      <td>NaN</td>\n",
       "      <td>NaN</td>\n",
       "      <td>2019-01-16 20:14:10</td>\n",
       "      <td>{'user_mentions': [], 'symbols': [], 'hashtags...</td>\n",
       "      <td>0</td>\n",
       "      <td>False</td>\n",
       "      <td>low</td>\n",
       "      <td>NaN</td>\n",
       "      <td>1085631317751066626</td>\n",
       "      <td>1085631317751066624</td>\n",
       "      <td>...</td>\n",
       "      <td>{'display': 'twitter.com/kil889/status/…', 'ex...</td>\n",
       "      <td>0</td>\n",
       "      <td>0</td>\n",
       "      <td>False</td>\n",
       "      <td>NaN</td>\n",
       "      <td>&lt;a href=\"http://twitter.com/download/iphone\" r...</td>\n",
       "      <td>Just block anybody who willingly listens to St...</td>\n",
       "      <td>2019-01-16 20:14:10.863</td>\n",
       "      <td>False</td>\n",
       "      <td>{'name': 'Tragedy Khadafi verse on Strange Fru...</td>\n",
       "    </tr>\n",
       "    <tr>\n",
       "      <th>1</th>\n",
       "      <td>NaN</td>\n",
       "      <td>NaN</td>\n",
       "      <td>2019-01-16 20:14:13</td>\n",
       "      <td>{'user_mentions': [{'name': 'Black Nerd Proble...</td>\n",
       "      <td>0</td>\n",
       "      <td>False</td>\n",
       "      <td>low</td>\n",
       "      <td>NaN</td>\n",
       "      <td>1085631330384334848</td>\n",
       "      <td>1085631330384334848</td>\n",
       "      <td>...</td>\n",
       "      <td>{'display': 'twitter.com/rhyemswturtle/…', 'ex...</td>\n",
       "      <td>0</td>\n",
       "      <td>0</td>\n",
       "      <td>False</td>\n",
       "      <td>{'created_at': 'Wed Jan 16 18:59:47 +0000 2019...</td>\n",
       "      <td>&lt;a href=\"http://twitter.com/download/iphone\" r...</td>\n",
       "      <td>RT @BlkNrdProblems: Beloved, that's called str...</td>\n",
       "      <td>2019-01-16 20:14:13.875</td>\n",
       "      <td>False</td>\n",
       "      <td>{'name': 'lmao y'all wild', 'screen_name': 'An...</td>\n",
       "    </tr>\n",
       "    <tr>\n",
       "      <th>2</th>\n",
       "      <td>NaN</td>\n",
       "      <td>NaN</td>\n",
       "      <td>2019-01-16 20:14:15</td>\n",
       "      <td>{'user_mentions': [], 'symbols': [], 'hashtags...</td>\n",
       "      <td>0</td>\n",
       "      <td>False</td>\n",
       "      <td>low</td>\n",
       "      <td>NaN</td>\n",
       "      <td>1085631338693214208</td>\n",
       "      <td>1085631338693214208</td>\n",
       "      <td>...</td>\n",
       "      <td>NaN</td>\n",
       "      <td>0</td>\n",
       "      <td>0</td>\n",
       "      <td>False</td>\n",
       "      <td>NaN</td>\n",
       "      <td>&lt;a href=\"https://ifttt.com\" rel=\"nofollow\"&gt;IFT...</td>\n",
       "      <td>TFL UPDATE: TfLTrafficNews: London Road SM4 is...</td>\n",
       "      <td>2019-01-16 20:14:15.856</td>\n",
       "      <td>False</td>\n",
       "      <td>{'name': 'Bob', 'screen_name': 'thelondonbob01...</td>\n",
       "    </tr>\n",
       "    <tr>\n",
       "      <th>3</th>\n",
       "      <td>NaN</td>\n",
       "      <td>NaN</td>\n",
       "      <td>2019-01-16 20:14:51</td>\n",
       "      <td>{'user_mentions': [{'name': 'Highways England'...</td>\n",
       "      <td>0</td>\n",
       "      <td>False</td>\n",
       "      <td>low</td>\n",
       "      <td>NaN</td>\n",
       "      <td>1085631487955869697</td>\n",
       "      <td>1085631487955869696</td>\n",
       "      <td>...</td>\n",
       "      <td>NaN</td>\n",
       "      <td>0</td>\n",
       "      <td>0</td>\n",
       "      <td>False</td>\n",
       "      <td>{'truncated': True, 'created_at': 'Wed Jan 16 ...</td>\n",
       "      <td>&lt;a href=\"http://twitter.com/download/android\" ...</td>\n",
       "      <td>RT @HighwaysNWEST: All traffic caught within t...</td>\n",
       "      <td>2019-01-16 20:14:51.443</td>\n",
       "      <td>False</td>\n",
       "      <td>{'name': 'Cumbria charity truck fair', 'screen...</td>\n",
       "    </tr>\n",
       "  </tbody>\n",
       "</table>\n",
       "<p>4 rows × 32 columns</p>\n",
       "</div>"
      ],
      "text/plain": [
       "   contributors  coordinates          created_at  \\\n",
       "0           NaN          NaN 2019-01-16 20:14:10   \n",
       "1           NaN          NaN 2019-01-16 20:14:13   \n",
       "2           NaN          NaN 2019-01-16 20:14:15   \n",
       "3           NaN          NaN 2019-01-16 20:14:51   \n",
       "\n",
       "                                            entities  favorite_count  \\\n",
       "0  {'user_mentions': [], 'symbols': [], 'hashtags...               0   \n",
       "1  {'user_mentions': [{'name': 'Black Nerd Proble...               0   \n",
       "2  {'user_mentions': [], 'symbols': [], 'hashtags...               0   \n",
       "3  {'user_mentions': [{'name': 'Highways England'...               0   \n",
       "\n",
       "   favorited filter_level  geo                   id               id_str  \\\n",
       "0      False          low  NaN  1085631317751066626  1085631317751066624   \n",
       "1      False          low  NaN  1085631330384334848  1085631330384334848   \n",
       "2      False          low  NaN  1085631338693214208  1085631338693214208   \n",
       "3      False          low  NaN  1085631487955869697  1085631487955869696   \n",
       "\n",
       "                         ...                          \\\n",
       "0                        ...                           \n",
       "1                        ...                           \n",
       "2                        ...                           \n",
       "3                        ...                           \n",
       "\n",
       "                             quoted_status_permalink  reply_count  \\\n",
       "0  {'display': 'twitter.com/kil889/status/…', 'ex...            0   \n",
       "1  {'display': 'twitter.com/rhyemswturtle/…', 'ex...            0   \n",
       "2                                                NaN            0   \n",
       "3                                                NaN            0   \n",
       "\n",
       "   retweet_count  retweeted  \\\n",
       "0              0      False   \n",
       "1              0      False   \n",
       "2              0      False   \n",
       "3              0      False   \n",
       "\n",
       "                                    retweeted_status  \\\n",
       "0                                                NaN   \n",
       "1  {'created_at': 'Wed Jan 16 18:59:47 +0000 2019...   \n",
       "2                                                NaN   \n",
       "3  {'truncated': True, 'created_at': 'Wed Jan 16 ...   \n",
       "\n",
       "                                              source  \\\n",
       "0  <a href=\"http://twitter.com/download/iphone\" r...   \n",
       "1  <a href=\"http://twitter.com/download/iphone\" r...   \n",
       "2  <a href=\"https://ifttt.com\" rel=\"nofollow\">IFT...   \n",
       "3  <a href=\"http://twitter.com/download/android\" ...   \n",
       "\n",
       "                                                text            timestamp_ms  \\\n",
       "0  Just block anybody who willingly listens to St... 2019-01-16 20:14:10.863   \n",
       "1  RT @BlkNrdProblems: Beloved, that's called str... 2019-01-16 20:14:13.875   \n",
       "2  TFL UPDATE: TfLTrafficNews: London Road SM4 is... 2019-01-16 20:14:15.856   \n",
       "3  RT @HighwaysNWEST: All traffic caught within t... 2019-01-16 20:14:51.443   \n",
       "\n",
       "   truncated                                               user  \n",
       "0      False  {'name': 'Tragedy Khadafi verse on Strange Fru...  \n",
       "1      False  {'name': 'lmao y'all wild', 'screen_name': 'An...  \n",
       "2      False  {'name': 'Bob', 'screen_name': 'thelondonbob01...  \n",
       "3      False  {'name': 'Cumbria charity truck fair', 'screen...  \n",
       "\n",
       "[4 rows x 32 columns]"
      ]
     },
     "execution_count": 7,
     "metadata": {},
     "output_type": "execute_result"
    }
   ],
   "source": [
    "print(json_df.shape)\n",
    "json_df.head()"
   ]
  },
  {
   "cell_type": "markdown",
   "metadata": {},
   "source": [
    "## Part 3: Unpack the nested dictionary into separate columns"
   ]
  },
  {
   "cell_type": "code",
   "execution_count": 8,
   "metadata": {},
   "outputs": [
    {
     "name": "stdout",
     "output_type": "stream",
     "text": [
      "4\n",
      "Could not parse:  0\n"
     ]
    }
   ],
   "source": [
    "tweets_data = []\n",
    "notParsed = []\n",
    "tweets_file = open(\"../data/AT_stream/scrape_20190116_12_15.json\",\"r\")\n",
    "for line in tweets_file:    \n",
    "    if line.strip():    \n",
    "        try:\n",
    "            tweet=json.loads(line)\n",
    "            tweets_data.append(tweet)\n",
    "        except:\n",
    "            notParsed.append(line)\n",
    "            continue\n",
    "print(len(tweets_data))\n",
    "print('Could not parse: ', len(notParsed))"
   ]
  },
  {
   "cell_type": "code",
   "execution_count": 10,
   "metadata": {},
   "outputs": [
    {
     "data": {
      "text/html": [
       "<div>\n",
       "<style scoped>\n",
       "    .dataframe tbody tr th:only-of-type {\n",
       "        vertical-align: middle;\n",
       "    }\n",
       "\n",
       "    .dataframe tbody tr th {\n",
       "        vertical-align: top;\n",
       "    }\n",
       "\n",
       "    .dataframe thead th {\n",
       "        text-align: right;\n",
       "    }\n",
       "</style>\n",
       "<table border=\"1\" class=\"dataframe\">\n",
       "  <thead>\n",
       "    <tr style=\"text-align: right;\">\n",
       "      <th></th>\n",
       "      <th>coordinates</th>\n",
       "      <th>created_at</th>\n",
       "      <th>geo</th>\n",
       "      <th>id</th>\n",
       "      <th>place</th>\n",
       "      <th>text</th>\n",
       "      <th>user.contributors_enabled</th>\n",
       "      <th>user.created_at</th>\n",
       "      <th>user.default_profile</th>\n",
       "      <th>user.default_profile_image</th>\n",
       "      <th>...</th>\n",
       "      <th>user.profile_text_color</th>\n",
       "      <th>user.profile_use_background_image</th>\n",
       "      <th>user.protected</th>\n",
       "      <th>user.screen_name</th>\n",
       "      <th>user.statuses_count</th>\n",
       "      <th>user.time_zone</th>\n",
       "      <th>user.translator_type</th>\n",
       "      <th>user.url</th>\n",
       "      <th>user.utc_offset</th>\n",
       "      <th>user.verified</th>\n",
       "    </tr>\n",
       "  </thead>\n",
       "  <tbody>\n",
       "    <tr>\n",
       "      <th>0</th>\n",
       "      <td>None</td>\n",
       "      <td>Wed Jan 16 20:14:10 +0000 2019</td>\n",
       "      <td>None</td>\n",
       "      <td>1085631317751066626</td>\n",
       "      <td>None</td>\n",
       "      <td>Just block anybody who willingly listens to St...</td>\n",
       "      <td>False</td>\n",
       "      <td>Sat Apr 03 01:38:23 +0000 2010</td>\n",
       "      <td>False</td>\n",
       "      <td>False</td>\n",
       "      <td>...</td>\n",
       "      <td>333333</td>\n",
       "      <td>True</td>\n",
       "      <td>False</td>\n",
       "      <td>MiqueOnTheMix</td>\n",
       "      <td>138078</td>\n",
       "      <td>None</td>\n",
       "      <td>none</td>\n",
       "      <td>http://Soundcloud.com/miqueonthemix</td>\n",
       "      <td>None</td>\n",
       "      <td>False</td>\n",
       "    </tr>\n",
       "    <tr>\n",
       "      <th>1</th>\n",
       "      <td>None</td>\n",
       "      <td>Wed Jan 16 20:14:13 +0000 2019</td>\n",
       "      <td>None</td>\n",
       "      <td>1085631330384334848</td>\n",
       "      <td>None</td>\n",
       "      <td>RT @BlkNrdProblems: Beloved, that's called str...</td>\n",
       "      <td>False</td>\n",
       "      <td>Sat Oct 24 15:46:11 +0000 2015</td>\n",
       "      <td>False</td>\n",
       "      <td>False</td>\n",
       "      <td>...</td>\n",
       "      <td>000000</td>\n",
       "      <td>False</td>\n",
       "      <td>False</td>\n",
       "      <td>AnAcidTweeter</td>\n",
       "      <td>1833</td>\n",
       "      <td>None</td>\n",
       "      <td>none</td>\n",
       "      <td>None</td>\n",
       "      <td>None</td>\n",
       "      <td>False</td>\n",
       "    </tr>\n",
       "    <tr>\n",
       "      <th>2</th>\n",
       "      <td>None</td>\n",
       "      <td>Wed Jan 16 20:14:15 +0000 2019</td>\n",
       "      <td>None</td>\n",
       "      <td>1085631338693214208</td>\n",
       "      <td>None</td>\n",
       "      <td>TFL UPDATE: TfLTrafficNews: London Road SM4 is...</td>\n",
       "      <td>False</td>\n",
       "      <td>Mon Jul 04 20:11:00 +0000 2016</td>\n",
       "      <td>True</td>\n",
       "      <td>False</td>\n",
       "      <td>...</td>\n",
       "      <td>333333</td>\n",
       "      <td>True</td>\n",
       "      <td>False</td>\n",
       "      <td>thelondonbob01</td>\n",
       "      <td>104997</td>\n",
       "      <td>None</td>\n",
       "      <td>none</td>\n",
       "      <td>None</td>\n",
       "      <td>None</td>\n",
       "      <td>False</td>\n",
       "    </tr>\n",
       "    <tr>\n",
       "      <th>3</th>\n",
       "      <td>None</td>\n",
       "      <td>Wed Jan 16 20:14:51 +0000 2019</td>\n",
       "      <td>None</td>\n",
       "      <td>1085631487955869697</td>\n",
       "      <td>None</td>\n",
       "      <td>RT @HighwaysNWEST: All traffic caught within t...</td>\n",
       "      <td>False</td>\n",
       "      <td>Sat Jul 23 20:06:00 +0000 2016</td>\n",
       "      <td>True</td>\n",
       "      <td>False</td>\n",
       "      <td>...</td>\n",
       "      <td>333333</td>\n",
       "      <td>True</td>\n",
       "      <td>False</td>\n",
       "      <td>Cctf2</td>\n",
       "      <td>3572</td>\n",
       "      <td>None</td>\n",
       "      <td>none</td>\n",
       "      <td>https://www.facebook.com/CumbriaCharityTruckFair/</td>\n",
       "      <td>None</td>\n",
       "      <td>False</td>\n",
       "    </tr>\n",
       "  </tbody>\n",
       "</table>\n",
       "<p>4 rows × 45 columns</p>\n",
       "</div>"
      ],
      "text/plain": [
       "  coordinates                      created_at   geo                   id  \\\n",
       "0        None  Wed Jan 16 20:14:10 +0000 2019  None  1085631317751066626   \n",
       "1        None  Wed Jan 16 20:14:13 +0000 2019  None  1085631330384334848   \n",
       "2        None  Wed Jan 16 20:14:15 +0000 2019  None  1085631338693214208   \n",
       "3        None  Wed Jan 16 20:14:51 +0000 2019  None  1085631487955869697   \n",
       "\n",
       "  place                                               text  \\\n",
       "0  None  Just block anybody who willingly listens to St...   \n",
       "1  None  RT @BlkNrdProblems: Beloved, that's called str...   \n",
       "2  None  TFL UPDATE: TfLTrafficNews: London Road SM4 is...   \n",
       "3  None  RT @HighwaysNWEST: All traffic caught within t...   \n",
       "\n",
       "   user.contributors_enabled                 user.created_at  \\\n",
       "0                      False  Sat Apr 03 01:38:23 +0000 2010   \n",
       "1                      False  Sat Oct 24 15:46:11 +0000 2015   \n",
       "2                      False  Mon Jul 04 20:11:00 +0000 2016   \n",
       "3                      False  Sat Jul 23 20:06:00 +0000 2016   \n",
       "\n",
       "   user.default_profile  user.default_profile_image      ...        \\\n",
       "0                 False                       False      ...         \n",
       "1                 False                       False      ...         \n",
       "2                  True                       False      ...         \n",
       "3                  True                       False      ...         \n",
       "\n",
       "  user.profile_text_color  user.profile_use_background_image user.protected  \\\n",
       "0                  333333                               True          False   \n",
       "1                  000000                              False          False   \n",
       "2                  333333                               True          False   \n",
       "3                  333333                               True          False   \n",
       "\n",
       "   user.screen_name user.statuses_count  user.time_zone  user.translator_type  \\\n",
       "0     MiqueOnTheMix              138078            None                  none   \n",
       "1     AnAcidTweeter                1833            None                  none   \n",
       "2    thelondonbob01              104997            None                  none   \n",
       "3             Cctf2                3572            None                  none   \n",
       "\n",
       "                                            user.url user.utc_offset  \\\n",
       "0                http://Soundcloud.com/miqueonthemix            None   \n",
       "1                                               None            None   \n",
       "2                                               None            None   \n",
       "3  https://www.facebook.com/CumbriaCharityTruckFair/            None   \n",
       "\n",
       "   user.verified  \n",
       "0          False  \n",
       "1          False  \n",
       "2          False  \n",
       "3          False  \n",
       "\n",
       "[4 rows x 45 columns]"
      ]
     },
     "execution_count": 10,
     "metadata": {},
     "output_type": "execute_result"
    }
   ],
   "source": [
    "tweet_cols = ['coordinates', 'created_at', \n",
    "#                'full_text',\n",
    "              'text','geo', 'id', 'place', 'user']\n",
    "\n",
    "\n",
    "sample_tweets_dict = [{col:tweet[col] for col in tweet_cols } for tweet in tweets_data]\n",
    "\n",
    "# This method looks for any instances of nested dictionaries (DOES NOT FLATTEN LISTS)\n",
    "sample_tweets_df = pd.io.json.json_normalize(sample_tweets_dict)\n",
    "sample_tweets_df"
   ]
  },
  {
   "cell_type": "markdown",
   "metadata": {},
   "source": [
    "Let's look at the tweets we collected during the live stream"
   ]
  },
  {
   "cell_type": "code",
   "execution_count": 11,
   "metadata": {},
   "outputs": [
    {
     "name": "stdout",
     "output_type": "stream",
     "text": [
      "0 Just block anybody who willingly listens to Streetlife\n",
      "--------\n",
      "1 RT @BlkNrdProblems: Beloved, that's called street harassment. Catcalling. Unwanted attention from dudes on the street that NO WOMAN WANTS.…\n",
      "--------\n",
      "2 TFL UPDATE: TfLTrafficNews: London Road SM4 is closed in both directions due to a road traffic collision.\n",
      "--------\n",
      "3 RT @HighwaysNWEST: All traffic caught within the closure has now been released. Thanks for your patience if you were held up. The road rema…\n",
      "--------\n"
     ]
    }
   ],
   "source": [
    "list = json_df.loc[:, 'text']\n",
    "# print(list)\n",
    "for i in range(len(list)):\n",
    "    print(i, list[i])\n",
    "    print(\"--------\")"
   ]
  }
 ],
 "metadata": {
  "kernelspec": {
   "display_name": "Python [conda env:root]",
   "language": "python",
   "name": "conda-root-py"
  },
  "language_info": {
   "codemirror_mode": {
    "name": "ipython",
    "version": 3
   },
   "file_extension": ".py",
   "mimetype": "text/x-python",
   "name": "python",
   "nbconvert_exporter": "python",
   "pygments_lexer": "ipython3",
   "version": "3.7.1"
  },
  "varInspector": {
   "cols": {
    "lenName": 16,
    "lenType": 16,
    "lenVar": 40
   },
   "kernels_config": {
    "python": {
     "delete_cmd_postfix": "",
     "delete_cmd_prefix": "del ",
     "library": "var_list.py",
     "varRefreshCmd": "print(var_dic_list())"
    },
    "r": {
     "delete_cmd_postfix": ") ",
     "delete_cmd_prefix": "rm(",
     "library": "var_list.r",
     "varRefreshCmd": "cat(var_dic_list()) "
    }
   },
   "types_to_exclude": [
    "module",
    "function",
    "builtin_function_or_method",
    "instance",
    "_Feature"
   ],
   "window_display": false
  }
 },
 "nbformat": 4,
 "nbformat_minor": 2
}
