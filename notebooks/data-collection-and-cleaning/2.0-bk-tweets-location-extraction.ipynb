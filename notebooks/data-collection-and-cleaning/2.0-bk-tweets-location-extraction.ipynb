{
 "cells": [
  {
   "cell_type": "markdown",
   "metadata": {},
   "source": [
    "# Parsing location information from tweets <br>\n",
    "\n",
    "_Author: Bala Krishnamoorthy_"
   ]
  },
  {
   "cell_type": "markdown",
   "metadata": {},
   "source": [
    "### Overview\n",
    "\n",
    "Once our NLP model has classified which tweets are \"useful\" (i.e. contain relevant, identifiable information on road blockages), and which tweets are not, the location information from each tweet needs to be extracted. <br> <br>\n",
    "\n",
    "The **goal** is to find the relevant start and end points of each road closure. This notebook uses regex to identify these start and end points by searching for intersections mentioned within tweets. <br> <br>\n",
    "\n",
    "Throughout this notebook, you will find my comments in _markdown_ and `#comment` format."
   ]
  },
  {
   "cell_type": "markdown",
   "metadata": {},
   "source": [
    "### Contents\n",
    "- [Data Cleaning](#Data-Cleaning)\n",
    "- [Data Processing with Regex](#Data-Processing-with-Regex)\n",
    "- [Final Output](#Final-Output)\n",
    "- [Future Updates](#Future-Updates)"
   ]
  },
  {
   "cell_type": "markdown",
   "metadata": {},
   "source": [
    "### Data Cleaning"
   ]
  },
  {
   "cell_type": "code",
   "execution_count": 18,
   "metadata": {},
   "outputs": [],
   "source": [
    "# Import Libraries\n",
    "import pandas as pd\n",
    "import re\n",
    "from pathlib import Path"
   ]
  },
  {
   "cell_type": "code",
   "execution_count": 19,
   "metadata": {},
   "outputs": [],
   "source": [
    "# Read in the raw tweets and classified tweets (i.e. after running classification modelling) \n",
    "# dataset. \n",
    "raw_tweets_df = pd.read_csv('../../data/2-interim/tweets_with_intersection.csv')\n",
    "classes_tweets_df = pd.read_csv('../../data/2-interim/twitter_corpus.csv', sep='\\t', \n",
    "                                encoding='latin-1')"
   ]
  },
  {
   "cell_type": "code",
   "execution_count": 20,
   "metadata": {},
   "outputs": [
    {
     "data": {
      "text/html": [
       "<div>\n",
       "<style scoped>\n",
       "    .dataframe tbody tr th:only-of-type {\n",
       "        vertical-align: middle;\n",
       "    }\n",
       "\n",
       "    .dataframe tbody tr th {\n",
       "        vertical-align: top;\n",
       "    }\n",
       "\n",
       "    .dataframe thead th {\n",
       "        text-align: right;\n",
       "    }\n",
       "</style>\n",
       "<table border=\"1\" class=\"dataframe\">\n",
       "  <thead>\n",
       "    <tr style=\"text-align: right;\">\n",
       "      <th></th>\n",
       "      <th>tweed_id</th>\n",
       "      <th>rating</th>\n",
       "      <th>tweet</th>\n",
       "    </tr>\n",
       "  </thead>\n",
       "  <tbody>\n",
       "    <tr>\n",
       "      <th>0</th>\n",
       "      <td>0</td>\n",
       "      <td>1</td>\n",
       "      <td>Road construction, left lane closed in #Albuqu...</td>\n",
       "    </tr>\n",
       "    <tr>\n",
       "      <th>1</th>\n",
       "      <td>1</td>\n",
       "      <td>1</td>\n",
       "      <td>Road construction. right lanes closed in #Pima...</td>\n",
       "    </tr>\n",
       "    <tr>\n",
       "      <th>2</th>\n",
       "      <td>2</td>\n",
       "      <td>1</td>\n",
       "      <td>Road construction, shoulder closed in #ElPaso ...</td>\n",
       "    </tr>\n",
       "    <tr>\n",
       "      <th>3</th>\n",
       "      <td>3</td>\n",
       "      <td>0</td>\n",
       "      <td>Ughhh at the dentist for a cleaning and the si...</td>\n",
       "    </tr>\n",
       "    <tr>\n",
       "      <th>4</th>\n",
       "      <td>4</td>\n",
       "      <td>1</td>\n",
       "      <td>Road constructions. two right lanes closed in ...</td>\n",
       "    </tr>\n",
       "  </tbody>\n",
       "</table>\n",
       "</div>"
      ],
      "text/plain": [
       "   tweed_id  rating                                              tweet\n",
       "0         0       1  Road construction, left lane closed in #Albuqu...\n",
       "1         1       1  Road construction. right lanes closed in #Pima...\n",
       "2         2       1  Road construction, shoulder closed in #ElPaso ...\n",
       "3         3       0  Ughhh at the dentist for a cleaning and the si...\n",
       "4         4       1  Road constructions. two right lanes closed in ..."
      ]
     },
     "execution_count": 20,
     "metadata": {},
     "output_type": "execute_result"
    }
   ],
   "source": [
    "classes_tweets_df.head()"
   ]
  },
  {
   "cell_type": "code",
   "execution_count": 21,
   "metadata": {},
   "outputs": [
    {
     "data": {
      "text/html": [
       "<div>\n",
       "<style scoped>\n",
       "    .dataframe tbody tr th:only-of-type {\n",
       "        vertical-align: middle;\n",
       "    }\n",
       "\n",
       "    .dataframe tbody tr th {\n",
       "        vertical-align: top;\n",
       "    }\n",
       "\n",
       "    .dataframe thead th {\n",
       "        text-align: right;\n",
       "    }\n",
       "</style>\n",
       "<table border=\"1\" class=\"dataframe\">\n",
       "  <thead>\n",
       "    <tr style=\"text-align: right;\">\n",
       "      <th></th>\n",
       "      <th>Unnamed: 0</th>\n",
       "      <th>text</th>\n",
       "      <th>intersection</th>\n",
       "      <th>coordinates.coordinates</th>\n",
       "      <th>created_at</th>\n",
       "      <th>place.bounding_box.coordinates</th>\n",
       "      <th>place.country</th>\n",
       "      <th>place.country_code</th>\n",
       "      <th>place.full_name</th>\n",
       "      <th>user.created_at</th>\n",
       "      <th>user.location</th>\n",
       "    </tr>\n",
       "  </thead>\n",
       "  <tbody>\n",
       "    <tr>\n",
       "      <th>0</th>\n",
       "      <td>0</td>\n",
       "      <td>Road construction, left lane closed in #Albuqu...</td>\n",
       "      <td>Tijeras Ave E</td>\n",
       "      <td>[-106.65, 35.08653]</td>\n",
       "      <td>Mon Jan 14 14:56:55 +0000 2019</td>\n",
       "      <td>[[[-106.7916912, 35.0158912], [-106.473745, 35...</td>\n",
       "      <td>United States</td>\n",
       "      <td>US</td>\n",
       "      <td>Albuquerque, NM</td>\n",
       "      <td>Tue Feb 08 23:44:59 +0000 2011</td>\n",
       "      <td>Albuquerque</td>\n",
       "    </tr>\n",
       "    <tr>\n",
       "      <th>1</th>\n",
       "      <td>1</td>\n",
       "      <td>Road construction. right lanes closed in #Pima...</td>\n",
       "      <td>I-10 EB at Ruthrauff Rd</td>\n",
       "      <td>[-111.0295, 32.29418]</td>\n",
       "      <td>Mon Jan 14 14:31:30 +0000 2019</td>\n",
       "      <td>[[[-111.083219, 32.057802], [-110.747928, 32.0...</td>\n",
       "      <td>United States</td>\n",
       "      <td>US</td>\n",
       "      <td>Tucson, AZ</td>\n",
       "      <td>Thu Feb 10 00:00:33 +0000 2011</td>\n",
       "      <td>Tucson, AZ</td>\n",
       "    </tr>\n",
       "    <tr>\n",
       "      <th>2</th>\n",
       "      <td>2</td>\n",
       "      <td>Road construction, shoulder closed in #ElPaso ...</td>\n",
       "      <td>I 10 Both EB/WB from Executive Ctr Blvd to Sun...</td>\n",
       "      <td>[-106.52, 31.79295]</td>\n",
       "      <td>Mon Jan 14 14:28:12 +0000 2019</td>\n",
       "      <td>[[[-106.634874, 31.6206683], [-106.199987, 31....</td>\n",
       "      <td>United States</td>\n",
       "      <td>US</td>\n",
       "      <td>El Paso, TX</td>\n",
       "      <td>Thu Feb 10 20:42:54 +0000 2011</td>\n",
       "      <td>El Paso, TX</td>\n",
       "    </tr>\n",
       "    <tr>\n",
       "      <th>3</th>\n",
       "      <td>3</td>\n",
       "      <td>Ughhh at the dentist for a cleaning and the si...</td>\n",
       "      <td>NaN</td>\n",
       "      <td>NaN</td>\n",
       "      <td>Mon Jan 14 14:08:05 +0000 2019</td>\n",
       "      <td>[[[-86.044756, 41.426657], [-85.9629436, 41.42...</td>\n",
       "      <td>United States</td>\n",
       "      <td>US</td>\n",
       "      <td>Nappanee, IN</td>\n",
       "      <td>Thu Jul 30 19:27:12 +0000 2009</td>\n",
       "      <td>New Paris, IN</td>\n",
       "    </tr>\n",
       "    <tr>\n",
       "      <th>4</th>\n",
       "      <td>4</td>\n",
       "      <td>Road constructions. two right lanes closed in ...</td>\n",
       "      <td>I-10 EB at Ruthrauff Rd</td>\n",
       "      <td>[-111.0295, 32.29418]</td>\n",
       "      <td>Mon Jan 14 13:49:35 +0000 2019</td>\n",
       "      <td>[[[-111.083219, 32.057802], [-110.747928, 32.0...</td>\n",
       "      <td>United States</td>\n",
       "      <td>US</td>\n",
       "      <td>Tucson, AZ</td>\n",
       "      <td>Thu Feb 10 00:00:33 +0000 2011</td>\n",
       "      <td>Tucson, AZ</td>\n",
       "    </tr>\n",
       "  </tbody>\n",
       "</table>\n",
       "</div>"
      ],
      "text/plain": [
       "   Unnamed: 0                                               text  \\\n",
       "0           0  Road construction, left lane closed in #Albuqu...   \n",
       "1           1  Road construction. right lanes closed in #Pima...   \n",
       "2           2  Road construction, shoulder closed in #ElPaso ...   \n",
       "3           3  Ughhh at the dentist for a cleaning and the si...   \n",
       "4           4  Road constructions. two right lanes closed in ...   \n",
       "\n",
       "                                        intersection coordinates.coordinates  \\\n",
       "0                                      Tijeras Ave E     [-106.65, 35.08653]   \n",
       "1                            I-10 EB at Ruthrauff Rd   [-111.0295, 32.29418]   \n",
       "2  I 10 Both EB/WB from Executive Ctr Blvd to Sun...     [-106.52, 31.79295]   \n",
       "3                                                NaN                     NaN   \n",
       "4                            I-10 EB at Ruthrauff Rd   [-111.0295, 32.29418]   \n",
       "\n",
       "                       created_at  \\\n",
       "0  Mon Jan 14 14:56:55 +0000 2019   \n",
       "1  Mon Jan 14 14:31:30 +0000 2019   \n",
       "2  Mon Jan 14 14:28:12 +0000 2019   \n",
       "3  Mon Jan 14 14:08:05 +0000 2019   \n",
       "4  Mon Jan 14 13:49:35 +0000 2019   \n",
       "\n",
       "                      place.bounding_box.coordinates  place.country  \\\n",
       "0  [[[-106.7916912, 35.0158912], [-106.473745, 35...  United States   \n",
       "1  [[[-111.083219, 32.057802], [-110.747928, 32.0...  United States   \n",
       "2  [[[-106.634874, 31.6206683], [-106.199987, 31....  United States   \n",
       "3  [[[-86.044756, 41.426657], [-85.9629436, 41.42...  United States   \n",
       "4  [[[-111.083219, 32.057802], [-110.747928, 32.0...  United States   \n",
       "\n",
       "  place.country_code  place.full_name                 user.created_at  \\\n",
       "0                 US  Albuquerque, NM  Tue Feb 08 23:44:59 +0000 2011   \n",
       "1                 US       Tucson, AZ  Thu Feb 10 00:00:33 +0000 2011   \n",
       "2                 US      El Paso, TX  Thu Feb 10 20:42:54 +0000 2011   \n",
       "3                 US     Nappanee, IN  Thu Jul 30 19:27:12 +0000 2009   \n",
       "4                 US       Tucson, AZ  Thu Feb 10 00:00:33 +0000 2011   \n",
       "\n",
       "   user.location  \n",
       "0    Albuquerque  \n",
       "1     Tucson, AZ  \n",
       "2    El Paso, TX  \n",
       "3  New Paris, IN  \n",
       "4     Tucson, AZ  "
      ]
     },
     "execution_count": 21,
     "metadata": {},
     "output_type": "execute_result"
    }
   ],
   "source": [
    "raw_tweets_df.head()"
   ]
  },
  {
   "cell_type": "code",
   "execution_count": 22,
   "metadata": {},
   "outputs": [],
   "source": [
    "# Drop unneeded columns\n",
    "classes_tweets_df.drop(axis=1, columns='tweed_id', inplace=True)\n",
    "raw_tweets_df.drop(axis=1, columns='Unnamed: 0', inplace=True)"
   ]
  },
  {
   "cell_type": "code",
   "execution_count": 23,
   "metadata": {},
   "outputs": [
    {
     "data": {
      "text/html": [
       "<div>\n",
       "<style scoped>\n",
       "    .dataframe tbody tr th:only-of-type {\n",
       "        vertical-align: middle;\n",
       "    }\n",
       "\n",
       "    .dataframe tbody tr th {\n",
       "        vertical-align: top;\n",
       "    }\n",
       "\n",
       "    .dataframe thead th {\n",
       "        text-align: right;\n",
       "    }\n",
       "</style>\n",
       "<table border=\"1\" class=\"dataframe\">\n",
       "  <thead>\n",
       "    <tr style=\"text-align: right;\">\n",
       "      <th></th>\n",
       "      <th>rating</th>\n",
       "      <th>tweet</th>\n",
       "    </tr>\n",
       "  </thead>\n",
       "  <tbody>\n",
       "    <tr>\n",
       "      <th>0</th>\n",
       "      <td>1</td>\n",
       "      <td>Road construction, left lane closed in #Albuqu...</td>\n",
       "    </tr>\n",
       "    <tr>\n",
       "      <th>1</th>\n",
       "      <td>1</td>\n",
       "      <td>Road construction. right lanes closed in #Pima...</td>\n",
       "    </tr>\n",
       "    <tr>\n",
       "      <th>2</th>\n",
       "      <td>1</td>\n",
       "      <td>Road construction, shoulder closed in #ElPaso ...</td>\n",
       "    </tr>\n",
       "    <tr>\n",
       "      <th>3</th>\n",
       "      <td>0</td>\n",
       "      <td>Ughhh at the dentist for a cleaning and the si...</td>\n",
       "    </tr>\n",
       "    <tr>\n",
       "      <th>4</th>\n",
       "      <td>1</td>\n",
       "      <td>Road constructions. two right lanes closed in ...</td>\n",
       "    </tr>\n",
       "  </tbody>\n",
       "</table>\n",
       "</div>"
      ],
      "text/plain": [
       "   rating                                              tweet\n",
       "0       1  Road construction, left lane closed in #Albuqu...\n",
       "1       1  Road construction. right lanes closed in #Pima...\n",
       "2       1  Road construction, shoulder closed in #ElPaso ...\n",
       "3       0  Ughhh at the dentist for a cleaning and the si...\n",
       "4       1  Road constructions. two right lanes closed in ..."
      ]
     },
     "execution_count": 23,
     "metadata": {},
     "output_type": "execute_result"
    }
   ],
   "source": [
    "classes_tweets_df.head()"
   ]
  },
  {
   "cell_type": "code",
   "execution_count": 24,
   "metadata": {},
   "outputs": [
    {
     "data": {
      "text/html": [
       "<div>\n",
       "<style scoped>\n",
       "    .dataframe tbody tr th:only-of-type {\n",
       "        vertical-align: middle;\n",
       "    }\n",
       "\n",
       "    .dataframe tbody tr th {\n",
       "        vertical-align: top;\n",
       "    }\n",
       "\n",
       "    .dataframe thead th {\n",
       "        text-align: right;\n",
       "    }\n",
       "</style>\n",
       "<table border=\"1\" class=\"dataframe\">\n",
       "  <thead>\n",
       "    <tr style=\"text-align: right;\">\n",
       "      <th></th>\n",
       "      <th>text</th>\n",
       "      <th>intersection</th>\n",
       "      <th>coordinates.coordinates</th>\n",
       "      <th>created_at</th>\n",
       "      <th>place.bounding_box.coordinates</th>\n",
       "      <th>place.country</th>\n",
       "      <th>place.country_code</th>\n",
       "      <th>place.full_name</th>\n",
       "      <th>user.created_at</th>\n",
       "      <th>user.location</th>\n",
       "    </tr>\n",
       "  </thead>\n",
       "  <tbody>\n",
       "    <tr>\n",
       "      <th>0</th>\n",
       "      <td>Road construction, left lane closed in #Albuqu...</td>\n",
       "      <td>Tijeras Ave E</td>\n",
       "      <td>[-106.65, 35.08653]</td>\n",
       "      <td>Mon Jan 14 14:56:55 +0000 2019</td>\n",
       "      <td>[[[-106.7916912, 35.0158912], [-106.473745, 35...</td>\n",
       "      <td>United States</td>\n",
       "      <td>US</td>\n",
       "      <td>Albuquerque, NM</td>\n",
       "      <td>Tue Feb 08 23:44:59 +0000 2011</td>\n",
       "      <td>Albuquerque</td>\n",
       "    </tr>\n",
       "    <tr>\n",
       "      <th>1</th>\n",
       "      <td>Road construction. right lanes closed in #Pima...</td>\n",
       "      <td>I-10 EB at Ruthrauff Rd</td>\n",
       "      <td>[-111.0295, 32.29418]</td>\n",
       "      <td>Mon Jan 14 14:31:30 +0000 2019</td>\n",
       "      <td>[[[-111.083219, 32.057802], [-110.747928, 32.0...</td>\n",
       "      <td>United States</td>\n",
       "      <td>US</td>\n",
       "      <td>Tucson, AZ</td>\n",
       "      <td>Thu Feb 10 00:00:33 +0000 2011</td>\n",
       "      <td>Tucson, AZ</td>\n",
       "    </tr>\n",
       "    <tr>\n",
       "      <th>2</th>\n",
       "      <td>Road construction, shoulder closed in #ElPaso ...</td>\n",
       "      <td>I 10 Both EB/WB from Executive Ctr Blvd to Sun...</td>\n",
       "      <td>[-106.52, 31.79295]</td>\n",
       "      <td>Mon Jan 14 14:28:12 +0000 2019</td>\n",
       "      <td>[[[-106.634874, 31.6206683], [-106.199987, 31....</td>\n",
       "      <td>United States</td>\n",
       "      <td>US</td>\n",
       "      <td>El Paso, TX</td>\n",
       "      <td>Thu Feb 10 20:42:54 +0000 2011</td>\n",
       "      <td>El Paso, TX</td>\n",
       "    </tr>\n",
       "    <tr>\n",
       "      <th>3</th>\n",
       "      <td>Ughhh at the dentist for a cleaning and the si...</td>\n",
       "      <td>NaN</td>\n",
       "      <td>NaN</td>\n",
       "      <td>Mon Jan 14 14:08:05 +0000 2019</td>\n",
       "      <td>[[[-86.044756, 41.426657], [-85.9629436, 41.42...</td>\n",
       "      <td>United States</td>\n",
       "      <td>US</td>\n",
       "      <td>Nappanee, IN</td>\n",
       "      <td>Thu Jul 30 19:27:12 +0000 2009</td>\n",
       "      <td>New Paris, IN</td>\n",
       "    </tr>\n",
       "    <tr>\n",
       "      <th>4</th>\n",
       "      <td>Road constructions. two right lanes closed in ...</td>\n",
       "      <td>I-10 EB at Ruthrauff Rd</td>\n",
       "      <td>[-111.0295, 32.29418]</td>\n",
       "      <td>Mon Jan 14 13:49:35 +0000 2019</td>\n",
       "      <td>[[[-111.083219, 32.057802], [-110.747928, 32.0...</td>\n",
       "      <td>United States</td>\n",
       "      <td>US</td>\n",
       "      <td>Tucson, AZ</td>\n",
       "      <td>Thu Feb 10 00:00:33 +0000 2011</td>\n",
       "      <td>Tucson, AZ</td>\n",
       "    </tr>\n",
       "  </tbody>\n",
       "</table>\n",
       "</div>"
      ],
      "text/plain": [
       "                                                text  \\\n",
       "0  Road construction, left lane closed in #Albuqu...   \n",
       "1  Road construction. right lanes closed in #Pima...   \n",
       "2  Road construction, shoulder closed in #ElPaso ...   \n",
       "3  Ughhh at the dentist for a cleaning and the si...   \n",
       "4  Road constructions. two right lanes closed in ...   \n",
       "\n",
       "                                        intersection coordinates.coordinates  \\\n",
       "0                                      Tijeras Ave E     [-106.65, 35.08653]   \n",
       "1                            I-10 EB at Ruthrauff Rd   [-111.0295, 32.29418]   \n",
       "2  I 10 Both EB/WB from Executive Ctr Blvd to Sun...     [-106.52, 31.79295]   \n",
       "3                                                NaN                     NaN   \n",
       "4                            I-10 EB at Ruthrauff Rd   [-111.0295, 32.29418]   \n",
       "\n",
       "                       created_at  \\\n",
       "0  Mon Jan 14 14:56:55 +0000 2019   \n",
       "1  Mon Jan 14 14:31:30 +0000 2019   \n",
       "2  Mon Jan 14 14:28:12 +0000 2019   \n",
       "3  Mon Jan 14 14:08:05 +0000 2019   \n",
       "4  Mon Jan 14 13:49:35 +0000 2019   \n",
       "\n",
       "                      place.bounding_box.coordinates  place.country  \\\n",
       "0  [[[-106.7916912, 35.0158912], [-106.473745, 35...  United States   \n",
       "1  [[[-111.083219, 32.057802], [-110.747928, 32.0...  United States   \n",
       "2  [[[-106.634874, 31.6206683], [-106.199987, 31....  United States   \n",
       "3  [[[-86.044756, 41.426657], [-85.9629436, 41.42...  United States   \n",
       "4  [[[-111.083219, 32.057802], [-110.747928, 32.0...  United States   \n",
       "\n",
       "  place.country_code  place.full_name                 user.created_at  \\\n",
       "0                 US  Albuquerque, NM  Tue Feb 08 23:44:59 +0000 2011   \n",
       "1                 US       Tucson, AZ  Thu Feb 10 00:00:33 +0000 2011   \n",
       "2                 US      El Paso, TX  Thu Feb 10 20:42:54 +0000 2011   \n",
       "3                 US     Nappanee, IN  Thu Jul 30 19:27:12 +0000 2009   \n",
       "4                 US       Tucson, AZ  Thu Feb 10 00:00:33 +0000 2011   \n",
       "\n",
       "   user.location  \n",
       "0    Albuquerque  \n",
       "1     Tucson, AZ  \n",
       "2    El Paso, TX  \n",
       "3  New Paris, IN  \n",
       "4     Tucson, AZ  "
      ]
     },
     "execution_count": 24,
     "metadata": {},
     "output_type": "execute_result"
    }
   ],
   "source": [
    "raw_tweets_df.head()"
   ]
  },
  {
   "cell_type": "code",
   "execution_count": 25,
   "metadata": {},
   "outputs": [
    {
     "data": {
      "text/plain": [
       "Fort Worth, TX     13\n",
       "Albuquerque, NM    11\n",
       "San Antonio, TX     7\n",
       "Phoenix, AZ         6\n",
       "El Paso, TX         5\n",
       "Name: place.full_name, dtype: int64"
      ]
     },
     "execution_count": 25,
     "metadata": {},
     "output_type": "execute_result"
    }
   ],
   "source": [
    "# Number of raw tweets by location \n",
    "raw_tweets_df['place.full_name'].value_counts()[:5]"
   ]
  },
  {
   "cell_type": "code",
   "execution_count": 27,
   "metadata": {},
   "outputs": [
    {
     "data": {
      "text/html": [
       "<div>\n",
       "<style scoped>\n",
       "    .dataframe tbody tr th:only-of-type {\n",
       "        vertical-align: middle;\n",
       "    }\n",
       "\n",
       "    .dataframe tbody tr th {\n",
       "        vertical-align: top;\n",
       "    }\n",
       "\n",
       "    .dataframe thead th {\n",
       "        text-align: right;\n",
       "    }\n",
       "</style>\n",
       "<table border=\"1\" class=\"dataframe\">\n",
       "  <thead>\n",
       "    <tr style=\"text-align: right;\">\n",
       "      <th></th>\n",
       "      <th>rating</th>\n",
       "      <th>tweet</th>\n",
       "    </tr>\n",
       "  </thead>\n",
       "  <tbody>\n",
       "    <tr>\n",
       "      <th>5</th>\n",
       "      <td>2</td>\n",
       "      <td>All eastbound lanes are closed due to snow and...</td>\n",
       "    </tr>\n",
       "    <tr>\n",
       "      <th>10</th>\n",
       "      <td>2</td>\n",
       "      <td>The drainage project on Center Street in #Vine...</td>\n",
       "    </tr>\n",
       "    <tr>\n",
       "      <th>11</th>\n",
       "      <td>2</td>\n",
       "      <td>Closed due to road construction in #FortWorth ...</td>\n",
       "    </tr>\n",
       "    <tr>\n",
       "      <th>12</th>\n",
       "      <td>2</td>\n",
       "      <td>Closed due to road construction in #FortWorth ...</td>\n",
       "    </tr>\n",
       "    <tr>\n",
       "      <th>15</th>\n",
       "      <td>2</td>\n",
       "      <td>Closed due to road construction in #Evergreen ...</td>\n",
       "    </tr>\n",
       "  </tbody>\n",
       "</table>\n",
       "</div>"
      ],
      "text/plain": [
       "    rating                                              tweet\n",
       "5        2  All eastbound lanes are closed due to snow and...\n",
       "10       2  The drainage project on Center Street in #Vine...\n",
       "11       2  Closed due to road construction in #FortWorth ...\n",
       "12       2  Closed due to road construction in #FortWorth ...\n",
       "15       2  Closed due to road construction in #Evergreen ..."
      ]
     },
     "execution_count": 27,
     "metadata": {},
     "output_type": "execute_result"
    }
   ],
   "source": [
    "# Tweets rated \"2\" indicate a road closure. I will only be examining (fully) closed roads in \n",
    "# this notebook.\n",
    "final_tweets_df = classes_tweets_df[classes_tweets_df['rating'] == 2]\n",
    "final_tweets_df.head()"
   ]
  },
  {
   "cell_type": "code",
   "execution_count": 29,
   "metadata": {},
   "outputs": [],
   "source": [
    "# Combine with original df (join by index) to pull city info\n",
    "final_tweets_df = pd.merge(final_tweets_df, raw_tweets_df, left_index=True, \n",
    "                           right_index=True)"
   ]
  },
  {
   "cell_type": "code",
   "execution_count": 30,
   "metadata": {},
   "outputs": [],
   "source": [
    "final_tweets_df = final_tweets_df[['tweet','created_at',\n",
    "                                   'place.bounding_box.coordinates','place.full_name']]\n",
    "final_tweets_df.reset_index(drop=True, inplace=True)"
   ]
  },
  {
   "cell_type": "code",
   "execution_count": 31,
   "metadata": {},
   "outputs": [
    {
     "data": {
      "text/html": [
       "<div>\n",
       "<style scoped>\n",
       "    .dataframe tbody tr th:only-of-type {\n",
       "        vertical-align: middle;\n",
       "    }\n",
       "\n",
       "    .dataframe tbody tr th {\n",
       "        vertical-align: top;\n",
       "    }\n",
       "\n",
       "    .dataframe thead th {\n",
       "        text-align: right;\n",
       "    }\n",
       "</style>\n",
       "<table border=\"1\" class=\"dataframe\">\n",
       "  <thead>\n",
       "    <tr style=\"text-align: right;\">\n",
       "      <th></th>\n",
       "      <th>tweet</th>\n",
       "      <th>created_at</th>\n",
       "      <th>place.bounding_box.coordinates</th>\n",
       "      <th>place.full_name</th>\n",
       "    </tr>\n",
       "  </thead>\n",
       "  <tbody>\n",
       "    <tr>\n",
       "      <th>0</th>\n",
       "      <td>All eastbound lanes are closed due to snow and...</td>\n",
       "      <td>Mon Jan 14 13:13:00 +0000 2019</td>\n",
       "      <td>[[[-124.482003, 32.528832], [-114.131212, 32.5...</td>\n",
       "      <td>California, USA</td>\n",
       "    </tr>\n",
       "    <tr>\n",
       "      <th>1</th>\n",
       "      <td>The drainage project on Center Street in #Vine...</td>\n",
       "      <td>Mon Jan 14 11:23:01 +0000 2019</td>\n",
       "      <td>[[[-70.62084, 41.4245617], [-70.586828, 41.424...</td>\n",
       "      <td>Vineyard Haven, MA</td>\n",
       "    </tr>\n",
       "    <tr>\n",
       "      <th>2</th>\n",
       "      <td>Closed due to road construction in #FortWorth ...</td>\n",
       "      <td>Mon Jan 14 10:33:20 +0000 2019</td>\n",
       "      <td>[[[-97.538285, 32.569477], [-97.033542, 32.569...</td>\n",
       "      <td>Fort Worth, TX</td>\n",
       "    </tr>\n",
       "    <tr>\n",
       "      <th>3</th>\n",
       "      <td>Closed due to road construction in #FortWorth ...</td>\n",
       "      <td>Mon Jan 14 10:32:16 +0000 2019</td>\n",
       "      <td>[[[-97.538285, 32.569477], [-97.033542, 32.569...</td>\n",
       "      <td>Fort Worth, TX</td>\n",
       "    </tr>\n",
       "    <tr>\n",
       "      <th>4</th>\n",
       "      <td>Closed due to road construction in #Evergreen ...</td>\n",
       "      <td>Mon Jan 14 04:43:56 +0000 2019</td>\n",
       "      <td>[[[-109.060257, 36.992427], [-102.041524, 36.9...</td>\n",
       "      <td>Colorado, USA</td>\n",
       "    </tr>\n",
       "  </tbody>\n",
       "</table>\n",
       "</div>"
      ],
      "text/plain": [
       "                                               tweet  \\\n",
       "0  All eastbound lanes are closed due to snow and...   \n",
       "1  The drainage project on Center Street in #Vine...   \n",
       "2  Closed due to road construction in #FortWorth ...   \n",
       "3  Closed due to road construction in #FortWorth ...   \n",
       "4  Closed due to road construction in #Evergreen ...   \n",
       "\n",
       "                       created_at  \\\n",
       "0  Mon Jan 14 13:13:00 +0000 2019   \n",
       "1  Mon Jan 14 11:23:01 +0000 2019   \n",
       "2  Mon Jan 14 10:33:20 +0000 2019   \n",
       "3  Mon Jan 14 10:32:16 +0000 2019   \n",
       "4  Mon Jan 14 04:43:56 +0000 2019   \n",
       "\n",
       "                      place.bounding_box.coordinates     place.full_name  \n",
       "0  [[[-124.482003, 32.528832], [-114.131212, 32.5...     California, USA  \n",
       "1  [[[-70.62084, 41.4245617], [-70.586828, 41.424...  Vineyard Haven, MA  \n",
       "2  [[[-97.538285, 32.569477], [-97.033542, 32.569...      Fort Worth, TX  \n",
       "3  [[[-97.538285, 32.569477], [-97.033542, 32.569...      Fort Worth, TX  \n",
       "4  [[[-109.060257, 36.992427], [-102.041524, 36.9...       Colorado, USA  "
      ]
     },
     "execution_count": 31,
     "metadata": {},
     "output_type": "execute_result"
    }
   ],
   "source": [
    "final_tweets_df.head()"
   ]
  },
  {
   "cell_type": "code",
   "execution_count": 32,
   "metadata": {},
   "outputs": [
    {
     "data": {
      "text/plain": [
       "Phoenix, AZ            6\n",
       "California, USA        4\n",
       "Houston, TX            4\n",
       "San Antonio, TX        3\n",
       "Oak Ridge North, TX    3\n",
       "Name: place.full_name, dtype: int64"
      ]
     },
     "execution_count": 32,
     "metadata": {},
     "output_type": "execute_result"
    }
   ],
   "source": [
    "# Check for cities with most number of closed roads\n",
    "final_tweets_df['place.full_name'].value_counts()[:5]"
   ]
  },
  {
   "cell_type": "markdown",
   "metadata": {},
   "source": [
    "### Data Processing with Regex"
   ]
  },
  {
   "cell_type": "markdown",
   "metadata": {},
   "source": [
    "USER INPUT: Choose City in Code Block Below."
   ]
  },
  {
   "cell_type": "code",
   "execution_count": 33,
   "metadata": {},
   "outputs": [],
   "source": [
    "# Select city\n",
    "city = 'Houston, TX'\n",
    "\n",
    "# Create a df with only the chosen city's relevant tweets\n",
    "city_tweets = final_tweets_df[final_tweets_df['place.full_name'] == city]['tweet']\n",
    "city_tweets.reset_index(drop=True, inplace=True)\n",
    "\n",
    "# Instantiate an empty list to collect relevant intersections on closed roads.\n",
    "intersection_list = []"
   ]
  },
  {
   "cell_type": "code",
   "execution_count": 34,
   "metadata": {},
   "outputs": [
    {
     "data": {
      "text/plain": [
       "'Closed due to road construction in #Southside on S Sam Houston Tollway EB between Hwy 288 and Cullen #traffic https://t.co/vuUN2yElDh'"
      ]
     },
     "execution_count": 34,
     "metadata": {},
     "output_type": "execute_result"
    }
   ],
   "source": [
    "# Examine tweet pattern\n",
    "city_tweets[1]"
   ]
  },
  {
   "cell_type": "code",
   "execution_count": 35,
   "metadata": {},
   "outputs": [
    {
     "name": "stdout",
     "output_type": "stream",
     "text": [
      "bbox_top_left (lat,long): 30.1546646,-95.823268\n",
      "bbox_bottom_right (lat,long): 29.522325,-95.069705\n"
     ]
    }
   ],
   "source": [
    "# Extract bounding box (i.e. bbox) for chosen city -- Needed to extract HereMaps data for same\n",
    "# city\n",
    "bbox_raw = eval(final_tweets_df[final_tweets_df['place.full_name'] == city]\\\n",
    "['place.bounding_box.coordinates'][6])[0]\n",
    "\n",
    "# twitter bbox is always defined by 4 corners of the bbox\n",
    "bbox_top_left = str(bbox_raw[3][1]) + ',' + str(bbox_raw[3][0])\n",
    "bbox_bottom_right = str(bbox_raw[1][1]) + ',' + str(bbox_raw[1][0])\n",
    "print('bbox_top_left (lat,long):', bbox_top_left)\n",
    "print('bbox_bottom_right (lat,long):', bbox_bottom_right)"
   ]
  },
  {
   "cell_type": "code",
   "execution_count": 36,
   "metadata": {},
   "outputs": [
    {
     "name": "stdout",
     "output_type": "stream",
     "text": [
      "intersection list: [['288 S Fwy NB at The S Lp, stopped traffic back to Reed Rd. '], ['S Sam Houston Tollway EB between Hwy 288 and Cullen '], ['S Sam Houston Tollway EB between Hwy 288 and Cullen '], ['S Sam Houston Tollway EB between Hwy 288 and Cullen ']]\n",
      "\n",
      "number of tweets available: 4\n",
      "number of patterns found: 4\n"
     ]
    }
   ],
   "source": [
    "# Find list of strings of \"useful\" tweets\n",
    "\n",
    "for i in range(city_tweets.shape[0]):\n",
    "    # Regex Pattern 1\n",
    "    intersection_list.append(re.findall(' on (.+)[#]', city_tweets[i]))\n",
    "    if i == (city_tweets.shape[0] - 1):\n",
    "        print('intersection list:', intersection_list)\n",
    "        print()\n",
    "        print('number of tweets available:', city_tweets.shape[0])\n",
    "        print('number of patterns found:', len(intersection_list))"
   ]
  },
  {
   "cell_type": "code",
   "execution_count": 38,
   "metadata": {},
   "outputs": [
    {
     "name": "stdout",
     "output_type": "stream",
     "text": [
      "updated intersection list: ['288 S Fwy NB at The S Lp, stopped traffic back to Reed Rd. ', 'S Sam Houston Tollway EB between Hwy 288 and Cullen ', 'S Sam Houston Tollway EB between Hwy 288 and Cullen ', 'S Sam Houston Tollway EB between Hwy 288 and Cullen ']\n"
     ]
    }
   ],
   "source": [
    "# Convert list of lists to list of strings\n",
    "intersection_list_2 = []\n",
    "\n",
    "for i in intersection_list:\n",
    "    intersection_list_2.append(i[0])\n",
    "\n",
    "print('updated intersection list:', intersection_list_2)"
   ]
  },
  {
   "cell_type": "code",
   "execution_count": 40,
   "metadata": {},
   "outputs": [
    {
     "data": {
      "text/html": [
       "<div>\n",
       "<style scoped>\n",
       "    .dataframe tbody tr th:only-of-type {\n",
       "        vertical-align: middle;\n",
       "    }\n",
       "\n",
       "    .dataframe tbody tr th {\n",
       "        vertical-align: top;\n",
       "    }\n",
       "\n",
       "    .dataframe thead th {\n",
       "        text-align: right;\n",
       "    }\n",
       "</style>\n",
       "<table border=\"1\" class=\"dataframe\">\n",
       "  <thead>\n",
       "    <tr style=\"text-align: right;\">\n",
       "      <th></th>\n",
       "      <th>city</th>\n",
       "      <th>start</th>\n",
       "      <th>end</th>\n",
       "      <th>tweet</th>\n",
       "    </tr>\n",
       "  </thead>\n",
       "  <tbody>\n",
       "    <tr>\n",
       "      <th>0</th>\n",
       "      <td></td>\n",
       "      <td></td>\n",
       "      <td></td>\n",
       "      <td></td>\n",
       "    </tr>\n",
       "    <tr>\n",
       "      <th>1</th>\n",
       "      <td></td>\n",
       "      <td></td>\n",
       "      <td></td>\n",
       "      <td></td>\n",
       "    </tr>\n",
       "    <tr>\n",
       "      <th>2</th>\n",
       "      <td></td>\n",
       "      <td></td>\n",
       "      <td></td>\n",
       "      <td></td>\n",
       "    </tr>\n",
       "    <tr>\n",
       "      <th>3</th>\n",
       "      <td></td>\n",
       "      <td></td>\n",
       "      <td></td>\n",
       "      <td></td>\n",
       "    </tr>\n",
       "  </tbody>\n",
       "</table>\n",
       "</div>"
      ],
      "text/plain": [
       "  city start end tweet\n",
       "0                     \n",
       "1                     \n",
       "2                     \n",
       "3                     "
      ]
     },
     "execution_count": 40,
     "metadata": {},
     "output_type": "execute_result"
    }
   ],
   "source": [
    "# Instantiate df to hold output intersections\n",
    "columns = ['city', 'start', 'end', 'tweet']\n",
    "output_tweets_df = pd.DataFrame(index=range(len(city_tweets)), columns=columns)\n",
    "output_tweets_df.fillna('', inplace=True)\n",
    "output_tweets_df"
   ]
  },
  {
   "cell_type": "code",
   "execution_count": 41,
   "metadata": {},
   "outputs": [
    {
     "data": {
      "text/html": [
       "<div>\n",
       "<style scoped>\n",
       "    .dataframe tbody tr th:only-of-type {\n",
       "        vertical-align: middle;\n",
       "    }\n",
       "\n",
       "    .dataframe tbody tr th {\n",
       "        vertical-align: top;\n",
       "    }\n",
       "\n",
       "    .dataframe thead th {\n",
       "        text-align: right;\n",
       "    }\n",
       "</style>\n",
       "<table border=\"1\" class=\"dataframe\">\n",
       "  <thead>\n",
       "    <tr style=\"text-align: right;\">\n",
       "      <th></th>\n",
       "      <th>city</th>\n",
       "      <th>start</th>\n",
       "      <th>end</th>\n",
       "      <th>tweet</th>\n",
       "    </tr>\n",
       "  </thead>\n",
       "  <tbody>\n",
       "    <tr>\n",
       "      <th>0</th>\n",
       "      <td>Houston, TX</td>\n",
       "      <td></td>\n",
       "      <td></td>\n",
       "      <td></td>\n",
       "    </tr>\n",
       "    <tr>\n",
       "      <th>1</th>\n",
       "      <td>Houston, TX</td>\n",
       "      <td></td>\n",
       "      <td></td>\n",
       "      <td></td>\n",
       "    </tr>\n",
       "    <tr>\n",
       "      <th>2</th>\n",
       "      <td>Houston, TX</td>\n",
       "      <td></td>\n",
       "      <td></td>\n",
       "      <td></td>\n",
       "    </tr>\n",
       "    <tr>\n",
       "      <th>3</th>\n",
       "      <td>Houston, TX</td>\n",
       "      <td></td>\n",
       "      <td></td>\n",
       "      <td></td>\n",
       "    </tr>\n",
       "  </tbody>\n",
       "</table>\n",
       "</div>"
      ],
      "text/plain": [
       "          city start end tweet\n",
       "0  Houston, TX                \n",
       "1  Houston, TX                \n",
       "2  Houston, TX                \n",
       "3  Houston, TX                "
      ]
     },
     "execution_count": 41,
     "metadata": {},
     "output_type": "execute_result"
    }
   ],
   "source": [
    "# Populate city column in outputs df\n",
    "output_tweets_df.loc[:, 'city'] = city\n",
    "output_tweets_df"
   ]
  },
  {
   "cell_type": "code",
   "execution_count": 42,
   "metadata": {},
   "outputs": [
    {
     "name": "stdout",
     "output_type": "stream",
     "text": [
      "288 S Fwy NB at The S Lp, stopped traffic back to Reed Rd. \n",
      "start: 288 S Fwy NB &  The S Lp\n",
      "end: 288 S Fwy NB &  stopped traffic back to Reed Rd. \n",
      "\n",
      "S Sam Houston Tollway EB between Hwy 288 and Cullen \n",
      "start: S Sam Houston Tollway EB & Hwy 288 \n",
      "end: S Sam Houston Tollway EB & Cullen \n",
      "\n",
      "S Sam Houston Tollway EB between Hwy 288 and Cullen \n",
      "start: S Sam Houston Tollway EB & Hwy 288 \n",
      "end: S Sam Houston Tollway EB & Cullen \n",
      "\n",
      "S Sam Houston Tollway EB between Hwy 288 and Cullen \n",
      "start: S Sam Houston Tollway EB & Hwy 288 \n",
      "end: S Sam Houston Tollway EB & Cullen \n",
      "\n"
     ]
    }
   ],
   "source": [
    "# Use Regex to further split the tweet into intersections that describe the start and end \n",
    "# of each road closure.\n",
    "\n",
    "index = 0\n",
    "for string in intersection_list_2:\n",
    "    print(string)\n",
    "    output_tweets_df.loc[index, 'tweet'] = city_tweets[index]\n",
    "    # Regex Pattern 1\n",
    "    if 'between' in string:\n",
    "        split_1 = string.split('between') # Split on 'between' first\n",
    "        split_2 = split_1[1].split('and')\n",
    "        start = split_1[0] + '&' + split_2[0]\n",
    "        end = split_1[0] + '&' + split_2[1]\n",
    "        output_tweets_df.loc[index, 'start'] = start\n",
    "        output_tweets_df.loc[index, 'end'] = end\n",
    "        print('start:', start)\n",
    "        print('end:', end)\n",
    "    # Regex Pattern 2\n",
    "    elif 'at' in string:\n",
    "        split_1 = string.split('at') # Split on 'at' first\n",
    "        split_2 = split_1[1].split(',')\n",
    "        start = split_1[0] + '& ' + split_2[0]\n",
    "        end = split_1[0] + '& ' + split_2[1]\n",
    "        output_tweets_df.loc[index, 'start'] = start\n",
    "        output_tweets_df.loc[index, 'end'] = end\n",
    "        print('start:', start)\n",
    "        print('end:', end)\n",
    "    else:\n",
    "        print('no matching patterns found for tweet at index:')\n",
    "    index += 1\n",
    "    print()"
   ]
  },
  {
   "cell_type": "code",
   "execution_count": 43,
   "metadata": {},
   "outputs": [
    {
     "data": {
      "text/html": [
       "<div>\n",
       "<style scoped>\n",
       "    .dataframe tbody tr th:only-of-type {\n",
       "        vertical-align: middle;\n",
       "    }\n",
       "\n",
       "    .dataframe tbody tr th {\n",
       "        vertical-align: top;\n",
       "    }\n",
       "\n",
       "    .dataframe thead th {\n",
       "        text-align: right;\n",
       "    }\n",
       "</style>\n",
       "<table border=\"1\" class=\"dataframe\">\n",
       "  <thead>\n",
       "    <tr style=\"text-align: right;\">\n",
       "      <th></th>\n",
       "      <th>city</th>\n",
       "      <th>start</th>\n",
       "      <th>end</th>\n",
       "      <th>tweet</th>\n",
       "    </tr>\n",
       "  </thead>\n",
       "  <tbody>\n",
       "    <tr>\n",
       "      <th>0</th>\n",
       "      <td>Houston, TX</td>\n",
       "      <td>288 S Fwy NB &amp;  The S Lp</td>\n",
       "      <td>288 S Fwy NB &amp;  stopped traffic back to Reed Rd.</td>\n",
       "      <td>Closed due to road construction on 288 S Fwy N...</td>\n",
       "    </tr>\n",
       "    <tr>\n",
       "      <th>1</th>\n",
       "      <td>Houston, TX</td>\n",
       "      <td>S Sam Houston Tollway EB &amp; Hwy 288</td>\n",
       "      <td>S Sam Houston Tollway EB &amp; Cullen</td>\n",
       "      <td>Closed due to road construction in #Southside ...</td>\n",
       "    </tr>\n",
       "    <tr>\n",
       "      <th>2</th>\n",
       "      <td>Houston, TX</td>\n",
       "      <td>S Sam Houston Tollway EB &amp; Hwy 288</td>\n",
       "      <td>S Sam Houston Tollway EB &amp; Cullen</td>\n",
       "      <td>Closed due to road construction in #Southside ...</td>\n",
       "    </tr>\n",
       "    <tr>\n",
       "      <th>3</th>\n",
       "      <td>Houston, TX</td>\n",
       "      <td>S Sam Houston Tollway EB &amp; Hwy 288</td>\n",
       "      <td>S Sam Houston Tollway EB &amp; Cullen</td>\n",
       "      <td>Closed due to road construction in #Southside ...</td>\n",
       "    </tr>\n",
       "  </tbody>\n",
       "</table>\n",
       "</div>"
      ],
      "text/plain": [
       "          city                                start  \\\n",
       "0  Houston, TX             288 S Fwy NB &  The S Lp   \n",
       "1  Houston, TX  S Sam Houston Tollway EB & Hwy 288    \n",
       "2  Houston, TX  S Sam Houston Tollway EB & Hwy 288    \n",
       "3  Houston, TX  S Sam Houston Tollway EB & Hwy 288    \n",
       "\n",
       "                                                 end  \\\n",
       "0  288 S Fwy NB &  stopped traffic back to Reed Rd.    \n",
       "1                 S Sam Houston Tollway EB & Cullen    \n",
       "2                 S Sam Houston Tollway EB & Cullen    \n",
       "3                 S Sam Houston Tollway EB & Cullen    \n",
       "\n",
       "                                               tweet  \n",
       "0  Closed due to road construction on 288 S Fwy N...  \n",
       "1  Closed due to road construction in #Southside ...  \n",
       "2  Closed due to road construction in #Southside ...  \n",
       "3  Closed due to road construction in #Southside ...  "
      ]
     },
     "execution_count": 43,
     "metadata": {},
     "output_type": "execute_result"
    }
   ],
   "source": [
    "# View output df\n",
    "output_tweets_df"
   ]
  },
  {
   "cell_type": "code",
   "execution_count": 44,
   "metadata": {},
   "outputs": [],
   "source": [
    "# Final Clean up (manual)\n",
    "output_tweets_df.loc[0, 'end'] = output_tweets_df.loc[0, 'end'].replace('  stopped traffic back to', '')"
   ]
  },
  {
   "cell_type": "markdown",
   "metadata": {},
   "source": [
    "### Final Output"
   ]
  },
  {
   "cell_type": "code",
   "execution_count": 45,
   "metadata": {},
   "outputs": [
    {
     "data": {
      "text/html": [
       "<div>\n",
       "<style scoped>\n",
       "    .dataframe tbody tr th:only-of-type {\n",
       "        vertical-align: middle;\n",
       "    }\n",
       "\n",
       "    .dataframe tbody tr th {\n",
       "        vertical-align: top;\n",
       "    }\n",
       "\n",
       "    .dataframe thead th {\n",
       "        text-align: right;\n",
       "    }\n",
       "</style>\n",
       "<table border=\"1\" class=\"dataframe\">\n",
       "  <thead>\n",
       "    <tr style=\"text-align: right;\">\n",
       "      <th></th>\n",
       "      <th>city</th>\n",
       "      <th>start</th>\n",
       "      <th>end</th>\n",
       "      <th>tweet</th>\n",
       "    </tr>\n",
       "  </thead>\n",
       "  <tbody>\n",
       "    <tr>\n",
       "      <th>0</th>\n",
       "      <td>Houston, TX</td>\n",
       "      <td>288 S Fwy NB &amp;  The S Lp</td>\n",
       "      <td>288 S Fwy NB &amp; Reed Rd.</td>\n",
       "      <td>Closed due to road construction on 288 S Fwy N...</td>\n",
       "    </tr>\n",
       "    <tr>\n",
       "      <th>1</th>\n",
       "      <td>Houston, TX</td>\n",
       "      <td>S Sam Houston Tollway EB &amp; Hwy 288</td>\n",
       "      <td>S Sam Houston Tollway EB &amp; Cullen</td>\n",
       "      <td>Closed due to road construction in #Southside ...</td>\n",
       "    </tr>\n",
       "  </tbody>\n",
       "</table>\n",
       "</div>"
      ],
      "text/plain": [
       "          city                                start  \\\n",
       "0  Houston, TX             288 S Fwy NB &  The S Lp   \n",
       "1  Houston, TX  S Sam Houston Tollway EB & Hwy 288    \n",
       "\n",
       "                                  end  \\\n",
       "0            288 S Fwy NB & Reed Rd.    \n",
       "1  S Sam Houston Tollway EB & Cullen    \n",
       "\n",
       "                                               tweet  \n",
       "0  Closed due to road construction on 288 S Fwy N...  \n",
       "1  Closed due to road construction in #Southside ...  "
      ]
     },
     "execution_count": 45,
     "metadata": {},
     "output_type": "execute_result"
    }
   ],
   "source": [
    "# Remove any duplicates (e.g. re-tweets)\n",
    "output_tweets_df.drop_duplicates(inplace=True)\n",
    "output_tweets_df"
   ]
  },
  {
   "cell_type": "code",
   "execution_count": 46,
   "metadata": {},
   "outputs": [],
   "source": [
    "# Write output df to relevant file\n",
    "output_tweets_df.to_csv('../../data/2-interim/output_tweets', index=False)"
   ]
  },
  {
   "cell_type": "markdown",
   "metadata": {},
   "source": [
    "### Future Updates"
   ]
  },
  {
   "cell_type": "markdown",
   "metadata": {},
   "source": [
    "- Minimize any manual cleaning steps.\n",
    "- Increase number of regex patterns included to accomodate the diversity in tweet sentence structure."
   ]
  }
 ],
 "metadata": {
  "kernelspec": {
   "display_name": "Python [conda env:root]",
   "language": "python",
   "name": "conda-root-py"
  },
  "language_info": {
   "codemirror_mode": {
    "name": "ipython",
    "version": 3
   },
   "file_extension": ".py",
   "mimetype": "text/x-python",
   "name": "python",
   "nbconvert_exporter": "python",
   "pygments_lexer": "ipython3",
   "version": "3.7.1"
  },
  "varInspector": {
   "cols": {
    "lenName": 16,
    "lenType": 16,
    "lenVar": 40
   },
   "kernels_config": {
    "python": {
     "delete_cmd_postfix": "",
     "delete_cmd_prefix": "del ",
     "library": "var_list.py",
     "varRefreshCmd": "print(var_dic_list())"
    },
    "r": {
     "delete_cmd_postfix": ") ",
     "delete_cmd_prefix": "rm(",
     "library": "var_list.r",
     "varRefreshCmd": "cat(var_dic_list()) "
    }
   },
   "types_to_exclude": [
    "module",
    "function",
    "builtin_function_or_method",
    "instance",
    "_Feature"
   ],
   "window_display": false
  }
 },
 "nbformat": 4,
 "nbformat_minor": 2
}
