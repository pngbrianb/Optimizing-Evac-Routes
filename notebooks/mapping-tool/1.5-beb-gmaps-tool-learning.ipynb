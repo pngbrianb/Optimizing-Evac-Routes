{
 "cells": [
  {
   "cell_type": "markdown",
   "metadata": {},
   "source": [
    "# Dual-Purpose Notebook <br>\n",
    "\n",
    "_Author: Brian Brakefield_"
   ]
  },
  {
   "cell_type": "markdown",
   "metadata": {},
   "source": [
    "The first part of this notebook consists of space dedicated to testing and familiarizing ourselves with the gmaps functionality, not all of which was used in our final product.\n",
    "\n",
    "The second tests for, then defines the function used to render our final maps."
   ]
  },
  {
   "cell_type": "code",
   "execution_count": 1,
   "metadata": {},
   "outputs": [],
   "source": [
    "import gmaps\n",
    "import gmaps.datasets\n",
    "import python_scripts.config\n",
    "import pandas as pd\n",
    "import numpy as np\n",
    "import time\n",
    "gmaps.configure(api_key= python_scripts.config.gmaps_key)\n"
   ]
  },
  {
   "cell_type": "markdown",
   "metadata": {},
   "source": [
    "## Areas of Interest"
   ]
  },
  {
   "cell_type": "markdown",
   "metadata": {},
   "source": [
    "The first 3 figures are the basic maps of some areas of interest. For our presentation we decided to stay close to home and the rest of the project will deal primparily with the Seattle area."
   ]
  },
  {
   "cell_type": "code",
   "execution_count": 2,
   "metadata": {
    "scrolled": false
   },
   "outputs": [
    {
     "data": {
      "application/vnd.jupyter.widget-view+json": {
       "model_id": "a95d1c0db88a4709b0614f9950f801c8",
       "version_major": 2,
       "version_minor": 0
      },
      "text/plain": [
       "Figure(layout=FigureLayout(height='400px', margin='0 auto 0 auto', padding='1px', width='700px'))"
      ]
     },
     "metadata": {},
     "output_type": "display_data"
    }
   ],
   "source": [
    "figure_layout = {\n",
    "    'width': '700px',\n",
    "    'height': '400px',\n",
    "    'padding': '1px',\n",
    "    'margin': '0 auto 0 auto'\n",
    "}\n",
    "\n",
    "houston_coordinates = (29.7604, -95.3698)\n",
    "fig = gmaps.figure(center=houston_coordinates, zoom_level=10,layout=figure_layout)\n",
    "#fig.add_layer(gmaps.traffic_layer())\n",
    "fig"
   ]
  },
  {
   "cell_type": "code",
   "execution_count": 3,
   "metadata": {},
   "outputs": [
    {
     "data": {
      "application/vnd.jupyter.widget-view+json": {
       "model_id": "9188ddd9455947f286adeb0efe479e95",
       "version_major": 2,
       "version_minor": 0
      },
      "text/plain": [
       "Figure(layout=FigureLayout(height='400px', margin='0 auto 0 auto', padding='1px', width='700px'))"
      ]
     },
     "metadata": {},
     "output_type": "display_data"
    }
   ],
   "source": [
    "figure_layout = {\n",
    "    'width': '700px',\n",
    "    'height': '400px',\n",
    "    'padding': '1px',\n",
    "    'margin': '0 auto 0 auto'\n",
    "}\n",
    "\n",
    "boston_coordinates = (42.3601, -71.0589)\n",
    "fig = gmaps.figure(center=boston_coordinates, zoom_level=12,layout=figure_layout)\n",
    "#fig.add_layer(gmaps.traffic_layer())\n",
    "fig"
   ]
  },
  {
   "cell_type": "code",
   "execution_count": 4,
   "metadata": {},
   "outputs": [
    {
     "data": {
      "application/vnd.jupyter.widget-view+json": {
       "model_id": "e3ef24b3c02445d88163ef82fc749277",
       "version_major": 2,
       "version_minor": 0
      },
      "text/plain": [
       "Figure(layout=FigureLayout(height='400px', margin='0 auto 0 auto', padding='1px', width='700px'))"
      ]
     },
     "metadata": {},
     "output_type": "display_data"
    }
   ],
   "source": [
    "figure_layout = {\n",
    "    'width': '700px',\n",
    "    'height': '400px',\n",
    "    'padding': '1px',\n",
    "    'margin': '0 auto 0 auto'\n",
    "}\n",
    "\n",
    "seattle_coordinates = (47.6062, -122.3321)\n",
    "fig = gmaps.figure(center=seattle_coordinates, zoom_level=10,layout=figure_layout)\n",
    "#fig.add_layer(gmaps.traffic_layer())\n",
    "fig"
   ]
  },
  {
   "cell_type": "markdown",
   "metadata": {},
   "source": [
    "## Code Examples"
   ]
  },
  {
   "cell_type": "markdown",
   "metadata": {},
   "source": [
    "These are examples of code provided by the gmaps website for demonstration purposes. I'll be drawing from them for reference."
   ]
  },
  {
   "cell_type": "code",
   "execution_count": 5,
   "metadata": {
    "scrolled": true
   },
   "outputs": [
    {
     "data": {
      "application/vnd.jupyter.widget-view+json": {
       "model_id": "52e739bc9b5648f98d2253aa412eaebe",
       "version_major": 2,
       "version_minor": 0
      },
      "text/plain": [
       "Figure(layout=FigureLayout(height='420px'))"
      ]
     },
     "metadata": {},
     "output_type": "display_data"
    }
   ],
   "source": [
    "fig = gmaps.figure(center=(51.5, 0.1), zoom_level=9)\n",
    "\n",
    "# Features to draw on the map\n",
    "gmt_meridian = gmaps.Line(\n",
    "    start=(52.0, 0.0),\n",
    "    end=(50.0, 0.0),\n",
    "    stroke_weight=3.0\n",
    ")\n",
    "greenwich = gmaps.Marker((51.3, 0.0), info_box_content='Greenwich')\n",
    "\n",
    "drawing = gmaps.drawing_layer(features=[greenwich, gmt_meridian])\n",
    "fig.add_layer(drawing)\n",
    "fig\n",
    "\n",
    "# This functionality was not used in our present build"
   ]
  },
  {
   "cell_type": "code",
   "execution_count": 6,
   "metadata": {},
   "outputs": [
    {
     "data": {
      "application/vnd.jupyter.widget-view+json": {
       "model_id": "8fc2a5e55fc24033af4ca74a7b7b0f6f",
       "version_major": 2,
       "version_minor": 0
      },
      "text/plain": [
       "Figure(layout=FigureLayout(height='420px'))"
      ]
     },
     "metadata": {},
     "output_type": "display_data"
    }
   ],
   "source": [
    "london_congestion_zone_path = gmaps.datasets.load_dataset('london_congestion_zone')\n",
    "\n",
    "fig = gmaps.figure(center=(51.5, -0.1), zoom_level=12)\n",
    "london_congestion_zone_polygon = gmaps.Polygon(\n",
    "    london_congestion_zone_path,\n",
    "    stroke_color='blue',\n",
    "    fill_color='blue'\n",
    ")\n",
    "drawing = gmaps.drawing_layer(\n",
    "    features=[london_congestion_zone_polygon],\n",
    "    show_controls=False\n",
    ")\n",
    "fig.add_layer(drawing)\n",
    "fig\n",
    "\n",
    "# This functionality was not used in our present build"
   ]
  },
  {
   "cell_type": "code",
   "execution_count": 7,
   "metadata": {},
   "outputs": [
    {
     "data": {
      "text/plain": [
       "[(51.530318, -0.123026), (51.530078, -0.123614)]"
      ]
     },
     "execution_count": 7,
     "metadata": {},
     "output_type": "execute_result"
    }
   ],
   "source": [
    "london_congestion_zone_path[:2]"
   ]
  },
  {
   "cell_type": "code",
   "execution_count": 8,
   "metadata": {},
   "outputs": [
    {
     "data": {
      "application/vnd.jupyter.widget-view+json": {
       "model_id": "f4a62ede840a4651979305b20804822d",
       "version_major": 2,
       "version_minor": 0
      },
      "text/plain": [
       "Figure(layout=FigureLayout(height='420px'))"
      ]
     },
     "metadata": {},
     "output_type": "display_data"
    }
   ],
   "source": [
    "geneva = (46.2, 6.1)\n",
    "montreux = (46.4, 6.9)\n",
    "zurich = (47.4, 8.5)\n",
    "\n",
    "fig = gmaps.figure()\n",
    "geneva2zurich = gmaps.directions_layer(geneva, zurich)\n",
    "fig.add_layer(geneva2zurich)\n",
    "fig"
   ]
  },
  {
   "cell_type": "code",
   "execution_count": 9,
   "metadata": {},
   "outputs": [
    {
     "data": {
      "application/vnd.jupyter.widget-view+json": {
       "model_id": "3962741d0a034906aea4e21636b5a142",
       "version_major": 2,
       "version_minor": 0
      },
      "text/plain": [
       "Figure(layout=FigureLayout(height='420px'))"
      ]
     },
     "metadata": {},
     "output_type": "display_data"
    }
   ],
   "source": [
    "fig = gmaps.figure()\n",
    "geneva2zurich_via_montreux = gmaps.directions_layer(\n",
    "        geneva, zurich, waypoints=[montreux],\n",
    "        travel_mode='DRIVING')\n",
    "fig.add_layer(geneva2zurich_via_montreux)\n",
    "fig"
   ]
  },
  {
   "cell_type": "code",
   "execution_count": 10,
   "metadata": {
    "scrolled": true
   },
   "outputs": [
    {
     "data": {
      "application/vnd.jupyter.widget-view+json": {
       "model_id": "2c773c2b6c584dde80561570256dfe95",
       "version_major": 2,
       "version_minor": 0
      },
      "text/plain": [
       "Figure(layout=FigureLayout(height='420px'))"
      ]
     },
     "metadata": {},
     "output_type": "display_data"
    }
   ],
   "source": [
    "fig = gmaps.figure()\n",
    "geneva2zurich = gmaps.directions_layer(\n",
    "    geneva, zurich, show_markers=False,\n",
    "    stroke_color='red', stroke_weight=3.0, stroke_opacity=1.0)\n",
    "fig.add_layer(geneva2zurich)\n",
    "fig"
   ]
  },
  {
   "cell_type": "code",
   "execution_count": 11,
   "metadata": {},
   "outputs": [
    {
     "data": {
      "application/vnd.jupyter.widget-view+json": {
       "model_id": "a799c339fe214109898d4176c6e9edc0",
       "version_major": 2,
       "version_minor": 0
      },
      "text/plain": [
       "Figure(layout=FigureLayout(height='420px'))"
      ]
     },
     "metadata": {},
     "output_type": "display_data"
    }
   ],
   "source": [
    "nuclear_power_plants = [\n",
    "    {'name': 'Atucha', 'location': (-34.0, -59.167), 'active_reactors': 1},\n",
    "    {'name': 'Embalse', 'location': (-32.2333, -64.4333), 'active_reactors': 1},\n",
    "    {'name': 'Armenia', 'location': (40.167, 44.133), 'active_reactors': 1},\n",
    "]\n",
    "\n",
    "fc = [{'text':'text 1'},{'text':'text 2'},{'text':'text 3'}]\n",
    "\n",
    "plant_locations = [plant['location'] for plant in nuclear_power_plants]\n",
    "info_box_template = \"\"\"\n",
    "<dl>\n",
    "<dt>text</dt><dd>{text}</dd>\n",
    "</dl>\n",
    "\"\"\"\n",
    "plant_info = [info_box_template.format(**road) for road in fc]\n",
    "\n",
    "marker_layer = gmaps.marker_layer(plant_locations, info_box_content=plant_info)\n",
    "fig = gmaps.figure()\n",
    "fig.add_layer(marker_layer)\n",
    "fig"
   ]
  },
  {
   "cell_type": "markdown",
   "metadata": {},
   "source": [
    "## Fake Location Data"
   ]
  },
  {
   "cell_type": "markdown",
   "metadata": {},
   "source": [
    "A table of data in the format I want for the final product, for use in testing"
   ]
  },
  {
   "cell_type": "code",
   "execution_count": 12,
   "metadata": {},
   "outputs": [
    {
     "data": {
      "text/html": [
       "<div>\n",
       "<style scoped>\n",
       "    .dataframe tbody tr th:only-of-type {\n",
       "        vertical-align: middle;\n",
       "    }\n",
       "\n",
       "    .dataframe tbody tr th {\n",
       "        vertical-align: top;\n",
       "    }\n",
       "\n",
       "    .dataframe thead th {\n",
       "        text-align: right;\n",
       "    }\n",
       "</style>\n",
       "<table border=\"1\" class=\"dataframe\">\n",
       "  <thead>\n",
       "    <tr style=\"text-align: right;\">\n",
       "      <th></th>\n",
       "      <th>start</th>\n",
       "      <th>end</th>\n",
       "      <th>text</th>\n",
       "    </tr>\n",
       "  </thead>\n",
       "  <tbody>\n",
       "    <tr>\n",
       "      <th>0</th>\n",
       "      <td>[47.608222, -122.334897]</td>\n",
       "      <td>[47.610146, -122.336646]</td>\n",
       "      <td>Fallen Power Line</td>\n",
       "    </tr>\n",
       "    <tr>\n",
       "      <th>1</th>\n",
       "      <td>[47.607477, -122.33421]</td>\n",
       "      <td>[47.606116, -122.337564]</td>\n",
       "      <td>None</td>\n",
       "    </tr>\n",
       "    <tr>\n",
       "      <th>2</th>\n",
       "      <td>[47.60973, -122.33782]</td>\n",
       "      <td>[47.610663, -122.335567]</td>\n",
       "      <td>Collision</td>\n",
       "    </tr>\n",
       "  </tbody>\n",
       "</table>\n",
       "</div>"
      ],
      "text/plain": [
       "                      start                       end               text\n",
       "0  [47.608222, -122.334897]  [47.610146, -122.336646]  Fallen Power Line\n",
       "1   [47.607477, -122.33421]  [47.606116, -122.337564]               None\n",
       "2    [47.60973, -122.33782]  [47.610663, -122.335567]          Collision"
      ]
     },
     "execution_count": 12,
     "metadata": {},
     "output_type": "execute_result"
    }
   ],
   "source": [
    "data = {'start':[[47.608222,-122.334897],[47.607477, -122.334210],[47.609730, -122.337820]],\n",
    "'end':[[47.610146, -122.336646],[47.606116, -122.337564],[47.610663, -122.335567]],\n",
    "'text':['Fallen Power Line',None,'Collision']}\n",
    "fake_closures = pd.DataFrame(data)\n",
    "fake_closures.head()"
   ]
  },
  {
   "cell_type": "markdown",
   "metadata": {},
   "source": [
    "## Funcionality\n",
    "\n",
    "Running code to test the render_closures programming"
   ]
  },
  {
   "cell_type": "code",
   "execution_count": 13,
   "metadata": {},
   "outputs": [
    {
     "name": "stdout",
     "output_type": "stream",
     "text": [
      "0\n",
      "[47.608222, -122.334897]\n",
      "1\n",
      "[47.607477, -122.33421]\n",
      "2\n",
      "[47.60973, -122.33782]\n"
     ]
    }
   ],
   "source": [
    "# checking my iteration logic...\n",
    "for index,point in fake_closures.iterrows():\n",
    "    print(index)\n",
    "    print(point['start'])"
   ]
  },
  {
   "cell_type": "code",
   "execution_count": 14,
   "metadata": {},
   "outputs": [
    {
     "data": {
      "text/plain": [
       "['Fallen Power Line', None, 'Collision']"
      ]
     },
     "execution_count": 14,
     "metadata": {},
     "output_type": "execute_result"
    }
   ],
   "source": [
    "list(fake_closures['text'])"
   ]
  },
  {
   "cell_type": "code",
   "execution_count": 15,
   "metadata": {},
   "outputs": [
    {
     "data": {
      "application/vnd.jupyter.widget-view+json": {
       "model_id": "fdc3bbc0efb64df8a5ed561133ef22b5",
       "version_major": 2,
       "version_minor": 0
      },
      "text/plain": [
       "Figure(layout=FigureLayout(height='400px', margin='0 auto 0 auto', padding='1px', width='700px'))"
      ]
     },
     "metadata": {},
     "output_type": "display_data"
    }
   ],
   "source": [
    "# testing some simple road closures\n",
    "# first establish the figure layout:\n",
    "figure_layout = {\n",
    "    'width': '700px',\n",
    "    'height': '400px',\n",
    "    'padding': '1px',\n",
    "    'margin': '0 auto 0 auto'\n",
    "}\n",
    "\n",
    "# instantiate the figure with said layout\n",
    "fig = gmaps.figure(layout=figure_layout)\n",
    "\n",
    "# establish list for map markers\n",
    "marker_coords = []\n",
    "marker_labels = []\n",
    "# iterate over the index of rows\n",
    "for index,_ in fake_closures.iterrows():\n",
    "    # draw the closure, using directions instead of lines to ensure it follows the road\n",
    "    # accurately\n",
    "    close = gmaps.directions_layer(start=fake_closures.iloc[index][0],\n",
    "                                   end=fake_closures.iloc[index][1],\n",
    "                                   travel_mode='WALKING',show_markers=False,\n",
    "                                   stroke_color='Red', stroke_opacity=0.8)\n",
    "    # add the closure to the map\n",
    "    fig.add_layer(close)\n",
    "    # add to our label text column\n",
    "    if fake_closures.iloc[index][2] is not None:\n",
    "        # append label info (I'm not really happy with how these end up looking, but\n",
    "        # we're on a time crunch. Function over form, I say!)\n",
    "        marker_coords.append(fake_closures.iloc[index][0])\n",
    "        marker_labels.append(fake_closures.iloc[index][2])\n",
    "\n",
    "# if marker_labels isn't empty\n",
    "    if marker_labels != []:\n",
    "        # establish labeled markers\n",
    "        marker_layer = gmaps.marker_layer(locations=marker_coords,\n",
    "                                  label=marker_labels)\n",
    "        # and add them to the map\n",
    "        fig.add_layer(marker_layer)\n",
    "# add that layer of labels\n",
    "fig.add_layer(marker_layer)\n",
    "# render\n",
    "fig"
   ]
  },
  {
   "cell_type": "markdown",
   "metadata": {},
   "source": [
    "## Define Function\n",
    "\n",
    "Using the above code, we now wrap the process into a function for use in other notebooks."
   ]
  },
  {
   "cell_type": "code",
   "execution_count": 19,
   "metadata": {},
   "outputs": [],
   "source": [
    "def render_closures(data):\n",
    "    # import modules for the python script:\n",
    "    import pandas as pd\n",
    "    import gmaps\n",
    "    import time\n",
    "\n",
    "    # layout options: draw a comfortable-sized map\n",
    "    figure_layout = {\n",
    "    'width': '700px',\n",
    "    'height': '400px',\n",
    "    'padding': '1px',\n",
    "    'margin': '0 auto 0 auto'\n",
    "    }\n",
    "    # initialize map\n",
    "    fig = gmaps.figure(layout=figure_layout)\n",
    "\n",
    "    # establish list for map markers\n",
    "    marker_coords = []\n",
    "    marker_labels = []\n",
    "\n",
    "    # draw road closures\n",
    "    for index,_ in data.iterrows():\n",
    "        # The parameters are mostly self-explanatory, but I will note that this uses\n",
    "        # walking directions in case start and end points are contrary to one-way streets\n",
    "        close = gmaps.directions_layer(start=data.iloc[index][0],end=data.iloc[index][1],\n",
    "                                       travel_mode='DRIVING',show_markers=False,\n",
    "                                      stroke_color='Red', stroke_opacity=0.8)\n",
    "        # add this closure's layer\n",
    "        fig.add_layer(close)\n",
    "        # check for label text:\n",
    "        if data.iloc[index][2] is not None:\n",
    "            # append label info (I'm not really happy with how these end up looking, but\n",
    "            # we're on a time crunch. Function over form, I say!)\n",
    "            marker_coords.append(data.iloc[index][0])\n",
    "            marker_labels.append(data.iloc[index][2])\n",
    "\n",
    "        # Google Maps API limits to 50 requests per second\n",
    "        time.sleep(0.3)\n",
    "\n",
    "    # if marker_labels isn't empty\n",
    "    if marker_labels != []:\n",
    "        # establish labeled markers\n",
    "        marker_layer = gmaps.marker_layer(locations=marker_coords,\n",
    "                                  label=marker_labels)\n",
    "        # and add them to the map\n",
    "        fig.add_layer(marker_layer)\n",
    "    return fig\n"
   ]
  },
  {
   "cell_type": "code",
   "execution_count": 20,
   "metadata": {
    "scrolled": false
   },
   "outputs": [
    {
     "data": {
      "application/vnd.jupyter.widget-view+json": {
       "model_id": "c17f1c7247bf42378547d90fcdd418c0",
       "version_major": 2,
       "version_minor": 0
      },
      "text/plain": [
       "Figure(layout=FigureLayout(height='400px', margin='0 auto 0 auto', padding='1px', width='700px'))"
      ]
     },
     "metadata": {},
     "output_type": "display_data"
    }
   ],
   "source": [
    "render_closures(fake_closures)"
   ]
  },
  {
   "cell_type": "markdown",
   "metadata": {},
   "source": [
    "## Export Example DataFrame\n",
    "\n",
    "For test purposes in other dataframes"
   ]
  },
  {
   "cell_type": "code",
   "execution_count": 18,
   "metadata": {},
   "outputs": [],
   "source": [
    "fake_closures.to_csv('./coords-df.csv',index=False)"
   ]
  },
  {
   "cell_type": "code",
   "execution_count": null,
   "metadata": {},
   "outputs": [],
   "source": []
  }
 ],
 "metadata": {
  "kernelspec": {
   "display_name": "Python 3",
   "language": "python",
   "name": "python3"
  },
  "language_info": {
   "codemirror_mode": {
    "name": "ipython",
    "version": 3
   },
   "file_extension": ".py",
   "mimetype": "text/x-python",
   "name": "python",
   "nbconvert_exporter": "python",
   "pygments_lexer": "ipython3",
   "version": "3.6.8"
  },
  "varInspector": {
   "cols": {
    "lenName": 16,
    "lenType": 16,
    "lenVar": 40
   },
   "kernels_config": {
    "python": {
     "delete_cmd_postfix": "",
     "delete_cmd_prefix": "del ",
     "library": "var_list.py",
     "varRefreshCmd": "print(var_dic_list())"
    },
    "r": {
     "delete_cmd_postfix": ") ",
     "delete_cmd_prefix": "rm(",
     "library": "var_list.r",
     "varRefreshCmd": "cat(var_dic_list()) "
    }
   },
   "types_to_exclude": [
    "module",
    "function",
    "builtin_function_or_method",
    "instance",
    "_Feature"
   ],
   "window_display": false
  }
 },
 "nbformat": 4,
 "nbformat_minor": 2
}
