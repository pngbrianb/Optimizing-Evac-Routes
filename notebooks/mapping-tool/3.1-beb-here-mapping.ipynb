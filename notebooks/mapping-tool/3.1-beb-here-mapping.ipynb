{
 "cells": [
  {
   "cell_type": "code",
   "execution_count": 1,
   "metadata": {},
   "outputs": [],
   "source": [
    "import pandas as pd\n",
    "import geopy\n",
    "import gmaps as gmaps\n",
    "from python_scripts.render_closures import render_closures\n",
    "import python_scripts.config as config\n",
    "from ast import literal_eval\n",
    "gmaps.configure(api_key= config.gmaps_key)"
   ]
  },
  {
   "cell_type": "markdown",
   "metadata": {},
   "source": [
    "# Rendering Here.com Closures\n",
    "\n",
    "_Author: Brian Brakefield_\n",
    "\n",
    "The purpose of this notebook is to import, format, and render data from [here.com](https://www.here.com/) into our `render_closures` function. Data was collected and exported to csv in [this](1.0-bk-heremaps-data-extraction.ipynb) notebook."
   ]
  },
  {
   "cell_type": "markdown",
   "metadata": {},
   "source": [
    "## Read Data\n",
    "\n",
    "Here I read in our example of here.com road closures and format it to a usable state."
   ]
  },
  {
   "cell_type": "code",
   "execution_count": 2,
   "metadata": {},
   "outputs": [
    {
     "name": "stdout",
     "output_type": "stream",
     "text": [
      "<class 'pandas.core.frame.DataFrame'>\n",
      "RangeIndex: 29 entries, 0 to 28\n",
      "Data columns (total 13 columns):\n",
      "bbox_top_left        29 non-null object\n",
      "bbox_bottom_right    29 non-null object\n",
      "date_requested       29 non-null object\n",
      "time_requested       29 non-null object\n",
      "municipality         29 non-null object\n",
      "source               29 non-null object\n",
      "criticality          29 non-null object\n",
      "intersection         29 non-null object\n",
      "start_lat_long       29 non-null object\n",
      "end_lat_long         29 non-null object\n",
      "start_time           29 non-null object\n",
      "end_time             29 non-null object\n",
      "entry_time           29 non-null object\n",
      "dtypes: object(13)\n",
      "memory usage: 3.0+ KB\n"
     ]
    }
   ],
   "source": [
    "here = pd.read_csv('../data/2-interim/here_maps_output_2019-01-15-11PM')\n",
    "here.info()"
   ]
  },
  {
   "cell_type": "code",
   "execution_count": 3,
   "metadata": {},
   "outputs": [
    {
     "data": {
      "text/html": [
       "<div>\n",
       "<style scoped>\n",
       "    .dataframe tbody tr th:only-of-type {\n",
       "        vertical-align: middle;\n",
       "    }\n",
       "\n",
       "    .dataframe tbody tr th {\n",
       "        vertical-align: top;\n",
       "    }\n",
       "\n",
       "    .dataframe thead th {\n",
       "        text-align: right;\n",
       "    }\n",
       "</style>\n",
       "<table border=\"1\" class=\"dataframe\">\n",
       "  <thead>\n",
       "    <tr style=\"text-align: right;\">\n",
       "      <th></th>\n",
       "      <th>start</th>\n",
       "      <th>end</th>\n",
       "      <th>text</th>\n",
       "    </tr>\n",
       "  </thead>\n",
       "  <tbody>\n",
       "    <tr>\n",
       "      <th>0</th>\n",
       "      <td>(47.61422, -122.3476)</td>\n",
       "      <td>(47.620207, -122.343644)</td>\n",
       "      <td>None</td>\n",
       "    </tr>\n",
       "    <tr>\n",
       "      <th>1</th>\n",
       "      <td>(47.5924, -122.33549)</td>\n",
       "      <td>(47.5934, -122.33491)</td>\n",
       "      <td>None</td>\n",
       "    </tr>\n",
       "    <tr>\n",
       "      <th>2</th>\n",
       "      <td>(47.628912, -122.34362)</td>\n",
       "      <td>(47.628249, -122.34363)</td>\n",
       "      <td>None</td>\n",
       "    </tr>\n",
       "    <tr>\n",
       "      <th>3</th>\n",
       "      <td>(47.60486, -122.3391)</td>\n",
       "      <td>(47.60613, -122.33756)</td>\n",
       "      <td>None</td>\n",
       "    </tr>\n",
       "    <tr>\n",
       "      <th>4</th>\n",
       "      <td>(47.62788, -122.157232)</td>\n",
       "      <td>(47.624456, -122.159102)</td>\n",
       "      <td>None</td>\n",
       "    </tr>\n",
       "    <tr>\n",
       "      <th>5</th>\n",
       "      <td>(47.60656, -122.33646)</td>\n",
       "      <td>(47.60613, -122.33756)</td>\n",
       "      <td>None</td>\n",
       "    </tr>\n",
       "    <tr>\n",
       "      <th>6</th>\n",
       "      <td>(47.57109, -122.34508)</td>\n",
       "      <td>(47.57138, -122.34002)</td>\n",
       "      <td>None</td>\n",
       "    </tr>\n",
       "    <tr>\n",
       "      <th>7</th>\n",
       "      <td>(47.635163, -122.132435)</td>\n",
       "      <td>(47.634251, -122.136404)</td>\n",
       "      <td>None</td>\n",
       "    </tr>\n",
       "    <tr>\n",
       "      <th>8</th>\n",
       "      <td>(47.6197, -122.33848)</td>\n",
       "      <td>(47.6197, -122.33981)</td>\n",
       "      <td>None</td>\n",
       "    </tr>\n",
       "    <tr>\n",
       "      <th>9</th>\n",
       "      <td>(47.6197, -122.33981)</td>\n",
       "      <td>(47.6197, -122.33848)</td>\n",
       "      <td>None</td>\n",
       "    </tr>\n",
       "  </tbody>\n",
       "</table>\n",
       "</div>"
      ],
      "text/plain": [
       "                      start                       end  text\n",
       "0     (47.61422, -122.3476)  (47.620207, -122.343644)  None\n",
       "1     (47.5924, -122.33549)     (47.5934, -122.33491)  None\n",
       "2   (47.628912, -122.34362)   (47.628249, -122.34363)  None\n",
       "3     (47.60486, -122.3391)    (47.60613, -122.33756)  None\n",
       "4   (47.62788, -122.157232)  (47.624456, -122.159102)  None\n",
       "5    (47.60656, -122.33646)    (47.60613, -122.33756)  None\n",
       "6    (47.57109, -122.34508)    (47.57138, -122.34002)  None\n",
       "7  (47.635163, -122.132435)  (47.634251, -122.136404)  None\n",
       "8     (47.6197, -122.33848)     (47.6197, -122.33981)  None\n",
       "9     (47.6197, -122.33981)     (47.6197, -122.33848)  None"
      ]
     },
     "execution_count": 3,
     "metadata": {},
     "output_type": "execute_result"
    }
   ],
   "source": [
    "features = ['start_lat_long','end_lat_long']\n",
    "df = pd.DataFrame(columns=['start','end','text'])\n",
    "df['start'] = [literal_eval(here['start_lat_long'][i]) for i in range(len(here))]\n",
    "df['end'] = [literal_eval(here['end_lat_long'][i]) for i in range(len(here))]\n",
    "df['text'] = None\n",
    "df.head(10)"
   ]
  },
  {
   "cell_type": "markdown",
   "metadata": {},
   "source": [
    "## Rendering the Data\n",
    "\n",
    "Our data is now properly formatted for us in the render_closures function, but our gmaps rendering is limited by Google's API restrictions to only display 10 road closures."
   ]
  },
  {
   "cell_type": "code",
   "execution_count": 4,
   "metadata": {},
   "outputs": [],
   "source": [
    "test_df = df.head(10)"
   ]
  },
  {
   "cell_type": "code",
   "execution_count": 5,
   "metadata": {
    "scrolled": false
   },
   "outputs": [
    {
     "data": {
      "application/vnd.jupyter.widget-view+json": {
       "model_id": "0ca570386d3e461599b11e9136ec2113",
       "version_major": 2,
       "version_minor": 0
      },
      "text/plain": [
       "Figure(layout=FigureLayout(height='400px', margin='0 auto 0 auto', padding='1px', width='700px'))"
      ]
     },
     "metadata": {},
     "output_type": "display_data"
    }
   ],
   "source": [
    "render_closures(test_df)"
   ]
  },
  {
   "cell_type": "markdown",
   "metadata": {},
   "source": [
    "## Function\n",
    "\n",
    "Quickly turning the process of formatting the here.com data into a usable format into a function."
   ]
  },
  {
   "cell_type": "code",
   "execution_count": 6,
   "metadata": {},
   "outputs": [],
   "source": [
    "def format_here_data(data):\n",
    "    # import necessary modules\n",
    "    import pandas as pd\n",
    "    from ast import literal_eval\n",
    " \n",
    "    # establish the features from data that we'll keep\n",
    "    features = ['start_lat_long','end_lat_long']\n",
    "    # establihs the dataframe\n",
    "    df = pd.DataFrame(columns=['start','end','text'])\n",
    "    # read in the coordinates, evaluating columns because read_csv reads lists and tuples\n",
    "    # as strings\n",
    "    df['start'] = [literal_eval(data['start_lat_long'][i]) for i in range(len(data))]\n",
    "    df['end'] = [literal_eval(data['end_lat_long'][i]) for i in range(len(data))]\n",
    "    df['text'] = None\n",
    "    \n",
    "    return df"
   ]
  },
  {
   "cell_type": "code",
   "execution_count": 7,
   "metadata": {},
   "outputs": [
    {
     "data": {
      "text/html": [
       "<div>\n",
       "<style scoped>\n",
       "    .dataframe tbody tr th:only-of-type {\n",
       "        vertical-align: middle;\n",
       "    }\n",
       "\n",
       "    .dataframe tbody tr th {\n",
       "        vertical-align: top;\n",
       "    }\n",
       "\n",
       "    .dataframe thead th {\n",
       "        text-align: right;\n",
       "    }\n",
       "</style>\n",
       "<table border=\"1\" class=\"dataframe\">\n",
       "  <thead>\n",
       "    <tr style=\"text-align: right;\">\n",
       "      <th></th>\n",
       "      <th>start</th>\n",
       "      <th>end</th>\n",
       "      <th>text</th>\n",
       "    </tr>\n",
       "  </thead>\n",
       "  <tbody>\n",
       "    <tr>\n",
       "      <th>0</th>\n",
       "      <td>(47.61422, -122.3476)</td>\n",
       "      <td>(47.620207, -122.343644)</td>\n",
       "      <td>None</td>\n",
       "    </tr>\n",
       "    <tr>\n",
       "      <th>1</th>\n",
       "      <td>(47.5924, -122.33549)</td>\n",
       "      <td>(47.5934, -122.33491)</td>\n",
       "      <td>None</td>\n",
       "    </tr>\n",
       "    <tr>\n",
       "      <th>2</th>\n",
       "      <td>(47.628912, -122.34362)</td>\n",
       "      <td>(47.628249, -122.34363)</td>\n",
       "      <td>None</td>\n",
       "    </tr>\n",
       "    <tr>\n",
       "      <th>3</th>\n",
       "      <td>(47.60486, -122.3391)</td>\n",
       "      <td>(47.60613, -122.33756)</td>\n",
       "      <td>None</td>\n",
       "    </tr>\n",
       "    <tr>\n",
       "      <th>4</th>\n",
       "      <td>(47.62788, -122.157232)</td>\n",
       "      <td>(47.624456, -122.159102)</td>\n",
       "      <td>None</td>\n",
       "    </tr>\n",
       "  </tbody>\n",
       "</table>\n",
       "</div>"
      ],
      "text/plain": [
       "                     start                       end  text\n",
       "0    (47.61422, -122.3476)  (47.620207, -122.343644)  None\n",
       "1    (47.5924, -122.33549)     (47.5934, -122.33491)  None\n",
       "2  (47.628912, -122.34362)   (47.628249, -122.34363)  None\n",
       "3    (47.60486, -122.3391)    (47.60613, -122.33756)  None\n",
       "4  (47.62788, -122.157232)  (47.624456, -122.159102)  None"
      ]
     },
     "execution_count": 7,
     "metadata": {},
     "output_type": "execute_result"
    }
   ],
   "source": [
    "test_fun = format_here_data(here)\n",
    "test_fun.head()"
   ]
  },
  {
   "cell_type": "code",
   "execution_count": 9,
   "metadata": {},
   "outputs": [
    {
     "data": {
      "application/vnd.jupyter.widget-view+json": {
       "model_id": "7091b9b8a0c14996a4213a3310a49d64",
       "version_major": 2,
       "version_minor": 0
      },
      "text/plain": [
       "Figure(layout=FigureLayout(height='400px', margin='0 auto 0 auto', padding='1px', width='700px'))"
      ]
     },
     "metadata": {},
     "output_type": "display_data"
    }
   ],
   "source": [
    "render_closures(test_fun.head(10))"
   ]
  },
  {
   "cell_type": "code",
   "execution_count": null,
   "metadata": {},
   "outputs": [],
   "source": []
  }
 ],
 "metadata": {
  "kernelspec": {
   "display_name": "Python 3",
   "language": "python",
   "name": "python3"
  },
  "language_info": {
   "codemirror_mode": {
    "name": "ipython",
    "version": 3
   },
   "file_extension": ".py",
   "mimetype": "text/x-python",
   "name": "python",
   "nbconvert_exporter": "python",
   "pygments_lexer": "ipython3",
   "version": "3.6.8"
  },
  "varInspector": {
   "cols": {
    "lenName": 16,
    "lenType": 16,
    "lenVar": 40
   },
   "kernels_config": {
    "python": {
     "delete_cmd_postfix": "",
     "delete_cmd_prefix": "del ",
     "library": "var_list.py",
     "varRefreshCmd": "print(var_dic_list())"
    },
    "r": {
     "delete_cmd_postfix": ") ",
     "delete_cmd_prefix": "rm(",
     "library": "var_list.r",
     "varRefreshCmd": "cat(var_dic_list()) "
    }
   },
   "types_to_exclude": [
    "module",
    "function",
    "builtin_function_or_method",
    "instance",
    "_Feature"
   ],
   "window_display": false
  }
 },
 "nbformat": 4,
 "nbformat_minor": 2
}
