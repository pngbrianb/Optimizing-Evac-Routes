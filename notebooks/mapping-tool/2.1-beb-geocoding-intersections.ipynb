{
 "cells": [
  {
   "cell_type": "markdown",
   "metadata": {},
   "source": [
    "# Geocoding Intersections"
   ]
  },
  {
   "cell_type": "markdown",
   "metadata": {},
   "source": [
    "As an intermediate step in processing social media text, I will use geopy and gmaps to convert strings of road intersections into latitude and longitude coordinates for use in our render_closures function."
   ]
  },
  {
   "cell_type": "code",
   "execution_count": 1,
   "metadata": {},
   "outputs": [],
   "source": [
    "import pandas as pd\n",
    "import geopy\n",
    "import gmaps as gmaps\n",
    "from python_scripts.render_closures import render_closures\n",
    "import python_scripts.config as config\n",
    "gmaps.configure(api_key= config.gmaps_key)"
   ]
  },
  {
   "cell_type": "markdown",
   "metadata": {},
   "source": [
    "## Fake Data\n",
    "\n",
    "To test populating our map."
   ]
  },
  {
   "cell_type": "code",
   "execution_count": 2,
   "metadata": {},
   "outputs": [
    {
     "data": {
      "text/html": [
       "<div>\n",
       "<style scoped>\n",
       "    .dataframe tbody tr th:only-of-type {\n",
       "        vertical-align: middle;\n",
       "    }\n",
       "\n",
       "    .dataframe tbody tr th {\n",
       "        vertical-align: top;\n",
       "    }\n",
       "\n",
       "    .dataframe thead th {\n",
       "        text-align: right;\n",
       "    }\n",
       "</style>\n",
       "<table border=\"1\" class=\"dataframe\">\n",
       "  <thead>\n",
       "    <tr style=\"text-align: right;\">\n",
       "      <th></th>\n",
       "      <th>start</th>\n",
       "      <th>end</th>\n",
       "      <th>city</th>\n",
       "      <th>text</th>\n",
       "    </tr>\n",
       "  </thead>\n",
       "  <tbody>\n",
       "    <tr>\n",
       "      <th>0</th>\n",
       "      <td>rainier ave s &amp; s edmunds st</td>\n",
       "      <td>35th ave s &amp; s edmunds st</td>\n",
       "      <td>seattle</td>\n",
       "      <td>Fallen Power Line</td>\n",
       "    </tr>\n",
       "    <tr>\n",
       "      <th>1</th>\n",
       "      <td>s oregon st &amp; 38th ave s</td>\n",
       "      <td>s oregon st &amp; rainier ave s</td>\n",
       "      <td>seattle</td>\n",
       "      <td>Construction</td>\n",
       "    </tr>\n",
       "    <tr>\n",
       "      <th>2</th>\n",
       "      <td>s genesee st &amp; 42nd ave s</td>\n",
       "      <td>s alaska st &amp; 42nd ave s</td>\n",
       "      <td>seattle</td>\n",
       "      <td>Collision</td>\n",
       "    </tr>\n",
       "  </tbody>\n",
       "</table>\n",
       "</div>"
      ],
      "text/plain": [
       "                          start                          end     city  \\\n",
       "0  rainier ave s & s edmunds st    35th ave s & s edmunds st  seattle   \n",
       "1      s oregon st & 38th ave s  s oregon st & rainier ave s  seattle   \n",
       "2     s genesee st & 42nd ave s     s alaska st & 42nd ave s  seattle   \n",
       "\n",
       "                text  \n",
       "0  Fallen Power Line  \n",
       "1       Construction  \n",
       "2          Collision  "
      ]
     },
     "execution_count": 2,
     "metadata": {},
     "output_type": "execute_result"
    }
   ],
   "source": [
    "fake_closures = {\n",
    "    'start':[\n",
    "        'rainier ave s & s edmunds st',\n",
    "        's oregon st & 38th ave s',\n",
    "        's genesee st & 42nd ave s'\n",
    "    ],\n",
    "    'end':[\n",
    "        '35th ave s & s edmunds st',\n",
    "        's oregon st & rainier ave s',\n",
    "        's alaska st & 42nd ave s'\n",
    "    ],\n",
    "    'city':[\n",
    "        'seattle',\n",
    "        'seattle',\n",
    "        'seattle'\n",
    "    ],\n",
    "    'text':['Fallen Power Line','Construction','Collision']\n",
    "}\n",
    "fake = pd.DataFrame(fake_closures)\n",
    "fake.head()"
   ]
  },
  {
   "cell_type": "markdown",
   "metadata": {},
   "source": [
    "## Functionality\n",
    "\n",
    "Exploring and establishing the code for our function: take the dataframe in and return latitude and longitude start and end points, for use in the render_closures function"
   ]
  },
  {
   "cell_type": "code",
   "execution_count": 3,
   "metadata": {},
   "outputs": [
    {
     "name": "stdout",
     "output_type": "stream",
     "text": [
      "(47.55866109999999, -122.2854374)\n"
     ]
    }
   ],
   "source": [
    "# instantiate a google maps geocoder\n",
    "geolocator = geopy.geocoders.GoogleV3(api_key=config.gmaps_key)\n",
    "# extract the latitude and longitude\n",
    "location = geolocator.geocode(fake.start[0])\n",
    "# print it to check\n",
    "print((location.latitude, location.longitude))\n"
   ]
  },
  {
   "cell_type": "markdown",
   "metadata": {},
   "source": [
    "That works so far, but that may only be because my IP address is *within* the city in question. Let's try adding in the city, just to be sure."
   ]
  },
  {
   "cell_type": "code",
   "execution_count": 4,
   "metadata": {},
   "outputs": [
    {
     "name": "stdout",
     "output_type": "stream",
     "text": [
      "Rainier Ave S & S Edmunds St, Seattle, WA 98118, USA\n"
     ]
    }
   ],
   "source": [
    "# instantiate a google maps geocoder\n",
    "geolocator = geopy.geocoders.GoogleV3(api_key=config.gmaps_key)\n",
    "# extract the latitude and longitude\n",
    "location = geolocator.geocode(fake.start[0] +',' + fake.city[0])\n",
    "# print it to check\n",
    "print(location)"
   ]
  },
  {
   "cell_type": "markdown",
   "metadata": {},
   "source": [
    "## Building a DataFrame\n",
    "\n",
    "That seems to work, so now we can iterate through our intersection-based DataFrame and output a shiny new lat/long-based DataFrame and write a function to do just that."
   ]
  },
  {
   "cell_type": "code",
   "execution_count": 5,
   "metadata": {},
   "outputs": [
    {
     "data": {
      "text/html": [
       "<div>\n",
       "<style scoped>\n",
       "    .dataframe tbody tr th:only-of-type {\n",
       "        vertical-align: middle;\n",
       "    }\n",
       "\n",
       "    .dataframe tbody tr th {\n",
       "        vertical-align: top;\n",
       "    }\n",
       "\n",
       "    .dataframe thead th {\n",
       "        text-align: right;\n",
       "    }\n",
       "</style>\n",
       "<table border=\"1\" class=\"dataframe\">\n",
       "  <thead>\n",
       "    <tr style=\"text-align: right;\">\n",
       "      <th></th>\n",
       "      <th>start</th>\n",
       "      <th>end</th>\n",
       "      <th>text</th>\n",
       "    </tr>\n",
       "  </thead>\n",
       "  <tbody>\n",
       "    <tr>\n",
       "      <th>0</th>\n",
       "      <td>[47.55891039999999, -122.2854841]</td>\n",
       "      <td>[47.5586649, -122.2888154]</td>\n",
       "      <td>Fallen Power Line</td>\n",
       "    </tr>\n",
       "    <tr>\n",
       "      <th>1</th>\n",
       "      <td>[47.5628326, -122.2849706]</td>\n",
       "      <td>[47.5628256, -122.2878209]</td>\n",
       "      <td>Construction</td>\n",
       "    </tr>\n",
       "    <tr>\n",
       "      <th>2</th>\n",
       "      <td>[47.564117, -122.2807269]</td>\n",
       "      <td>[47.5605458, -122.280724]</td>\n",
       "      <td>Collision</td>\n",
       "    </tr>\n",
       "  </tbody>\n",
       "</table>\n",
       "</div>"
      ],
      "text/plain": [
       "                               start                         end  \\\n",
       "0  [47.55891039999999, -122.2854841]  [47.5586649, -122.2888154]   \n",
       "1         [47.5628326, -122.2849706]  [47.5628256, -122.2878209]   \n",
       "2          [47.564117, -122.2807269]   [47.5605458, -122.280724]   \n",
       "\n",
       "                text  \n",
       "0  Fallen Power Line  \n",
       "1       Construction  \n",
       "2          Collision  "
      ]
     },
     "execution_count": 5,
     "metadata": {},
     "output_type": "execute_result"
    }
   ],
   "source": [
    "# instantiate a google maps geocoder\n",
    "geolocator = geopy.geocoders.GoogleV3(api_key=config.gmaps_key)\n",
    "# build lists to put into our new DataFrame\n",
    "starts = []\n",
    "ends = []\n",
    "texts = []\n",
    "\n",
    "# iterate over rows\n",
    "for index,point in fake.iterrows():\n",
    "    # geocode the start and end points\n",
    "    new_start = geolocator.geocode(fake.start[index] +',' + fake.city[index])\n",
    "    new_end = geolocator.geocode(fake.end[index] +',' + fake.city[index])\n",
    "    # put their latitudes and longitudes into our lists\n",
    "    starts.append([new_start.latitude,new_start.longitude])\n",
    "    ends.append([new_end.latitude,new_end.longitude])\n",
    "    texts.append(fake.text[index])\n",
    "\n",
    "# put all that together!\n",
    "new_fake = {'start':starts,'end':ends,'text':texts}\n",
    "new_df = pd.DataFrame(new_fake)\n",
    "new_df"
   ]
  },
  {
   "cell_type": "code",
   "execution_count": 6,
   "metadata": {},
   "outputs": [
    {
     "data": {
      "text/html": [
       "<div>\n",
       "<style scoped>\n",
       "    .dataframe tbody tr th:only-of-type {\n",
       "        vertical-align: middle;\n",
       "    }\n",
       "\n",
       "    .dataframe tbody tr th {\n",
       "        vertical-align: top;\n",
       "    }\n",
       "\n",
       "    .dataframe thead th {\n",
       "        text-align: right;\n",
       "    }\n",
       "</style>\n",
       "<table border=\"1\" class=\"dataframe\">\n",
       "  <thead>\n",
       "    <tr style=\"text-align: right;\">\n",
       "      <th></th>\n",
       "      <th>start</th>\n",
       "      <th>end</th>\n",
       "      <th>city</th>\n",
       "      <th>text</th>\n",
       "    </tr>\n",
       "  </thead>\n",
       "  <tbody>\n",
       "    <tr>\n",
       "      <th>0</th>\n",
       "      <td>rainier ave s &amp; s edmunds st</td>\n",
       "      <td>35th ave s &amp; s edmunds st</td>\n",
       "      <td>seattle</td>\n",
       "      <td>Fallen Power Line</td>\n",
       "    </tr>\n",
       "    <tr>\n",
       "      <th>1</th>\n",
       "      <td>s oregon st &amp; 38th ave s</td>\n",
       "      <td>s oregon st &amp; rainier ave s</td>\n",
       "      <td>seattle</td>\n",
       "      <td>Construction</td>\n",
       "    </tr>\n",
       "    <tr>\n",
       "      <th>2</th>\n",
       "      <td>s genesee st &amp; 42nd ave s</td>\n",
       "      <td>s alaska st &amp; 42nd ave s</td>\n",
       "      <td>seattle</td>\n",
       "      <td>Collision</td>\n",
       "    </tr>\n",
       "  </tbody>\n",
       "</table>\n",
       "</div>"
      ],
      "text/plain": [
       "                          start                          end     city  \\\n",
       "0  rainier ave s & s edmunds st    35th ave s & s edmunds st  seattle   \n",
       "1      s oregon st & 38th ave s  s oregon st & rainier ave s  seattle   \n",
       "2     s genesee st & 42nd ave s     s alaska st & 42nd ave s  seattle   \n",
       "\n",
       "                text  \n",
       "0  Fallen Power Line  \n",
       "1       Construction  \n",
       "2          Collision  "
      ]
     },
     "execution_count": 6,
     "metadata": {},
     "output_type": "execute_result"
    }
   ],
   "source": [
    "# for reference:\n",
    "fake"
   ]
  },
  {
   "cell_type": "code",
   "execution_count": 7,
   "metadata": {},
   "outputs": [
    {
     "data": {
      "application/vnd.jupyter.widget-view+json": {
       "model_id": "7eb1265175ea4330bced8b727bfa94aa",
       "version_major": 2,
       "version_minor": 0
      },
      "text/plain": [
       "Figure(layout=FigureLayout(height='400px', margin='0 auto 0 auto', padding='1px', width='700px'))"
      ]
     },
     "metadata": {},
     "output_type": "display_data"
    }
   ],
   "source": [
    "# check that it renders:\n",
    "render_closures(new_df)"
   ]
  },
  {
   "cell_type": "markdown",
   "metadata": {},
   "source": [
    "## Defining a function\n",
    "\n",
    "Putting our previous work into a function in order to save that function to a callable Python script."
   ]
  },
  {
   "cell_type": "code",
   "execution_count": 8,
   "metadata": {},
   "outputs": [],
   "source": [
    "def intersect_to_coords(data,exdata=None):\n",
    "    import pandas as pd\n",
    "    import geopy\n",
    "    # instantiate a google maps geocoder\n",
    "    geolocator = geopy.geocoders.GoogleV3(api_key=config.gmaps_key)\n",
    "    # build lists to put into our new DataFrame\n",
    "    starts = []\n",
    "    ends = []\n",
    "    texts = []\n",
    "\n",
    "    # iterate over rows\n",
    "    for index,point in data.iterrows():\n",
    "        # geocode the start and end points\n",
    "        new_start = geolocator.geocode(data.start[index] +',' + data.city[index])\n",
    "        new_end = geolocator.geocode(data.end[index] +',' + data.city[index])\n",
    "        # put their latitudes and longitudes into our lists\n",
    "        starts.append([new_start.latitude,new_start.longitude])\n",
    "        ends.append([new_end.latitude,new_end.longitude])\n",
    "        texts.append(data.text[index])\n",
    "\n",
    "    # put all that together!\n",
    "    new_dict = {'start':starts,'end':ends,'text':texts}\n",
    "    new_df = pd.DataFrame(new_fake)\n",
    "    \n",
    "    if exdata is not None:\n",
    "        new_df = pd.concat([new_df,exdata],ignore_index=True)\n",
    "        tuple(new_df['start'])\n",
    "        tuple(new_df['end'])\n",
    "    return new_df"
   ]
  },
  {
   "cell_type": "markdown",
   "metadata": {},
   "source": [
    "### Testing the function with our fabricated data frame"
   ]
  },
  {
   "cell_type": "code",
   "execution_count": 9,
   "metadata": {},
   "outputs": [
    {
     "data": {
      "application/vnd.jupyter.widget-view+json": {
       "model_id": "669161849bed40029547bb28ea4a77c2",
       "version_major": 2,
       "version_minor": 0
      },
      "text/plain": [
       "Figure(layout=FigureLayout(height='400px', margin='0 auto 0 auto', padding='1px', width='700px'))"
      ]
     },
     "metadata": {},
     "output_type": "display_data"
    }
   ],
   "source": [
    "df3 = intersect_to_coords(fake)\n",
    "render_closures(df3)"
   ]
  },
  {
   "cell_type": "markdown",
   "metadata": {},
   "source": [
    "### Testing the function with a fabricated data frame built in another notebook"
   ]
  },
  {
   "cell_type": "code",
   "execution_count": 10,
   "metadata": {},
   "outputs": [
    {
     "data": {
      "text/html": [
       "<div>\n",
       "<style scoped>\n",
       "    .dataframe tbody tr th:only-of-type {\n",
       "        vertical-align: middle;\n",
       "    }\n",
       "\n",
       "    .dataframe tbody tr th {\n",
       "        vertical-align: top;\n",
       "    }\n",
       "\n",
       "    .dataframe thead th {\n",
       "        text-align: right;\n",
       "    }\n",
       "</style>\n",
       "<table border=\"1\" class=\"dataframe\">\n",
       "  <thead>\n",
       "    <tr style=\"text-align: right;\">\n",
       "      <th></th>\n",
       "      <th>start</th>\n",
       "      <th>end</th>\n",
       "      <th>text</th>\n",
       "    </tr>\n",
       "  </thead>\n",
       "  <tbody>\n",
       "    <tr>\n",
       "      <th>0</th>\n",
       "      <td>[47.608222, -122.334897]</td>\n",
       "      <td>[47.610146, -122.336646]</td>\n",
       "      <td>Fallen Power Line</td>\n",
       "    </tr>\n",
       "    <tr>\n",
       "      <th>1</th>\n",
       "      <td>[47.607477, -122.33421]</td>\n",
       "      <td>[47.606116, -122.337564]</td>\n",
       "      <td>Construction</td>\n",
       "    </tr>\n",
       "    <tr>\n",
       "      <th>2</th>\n",
       "      <td>[47.60973, -122.33782]</td>\n",
       "      <td>[47.610663, -122.335567]</td>\n",
       "      <td>Collision</td>\n",
       "    </tr>\n",
       "  </tbody>\n",
       "</table>\n",
       "</div>"
      ],
      "text/plain": [
       "                      start                       end               text\n",
       "0  [47.608222, -122.334897]  [47.610146, -122.336646]  Fallen Power Line\n",
       "1   [47.607477, -122.33421]  [47.606116, -122.337564]       Construction\n",
       "2    [47.60973, -122.33782]  [47.610663, -122.335567]          Collision"
      ]
     },
     "execution_count": 10,
     "metadata": {},
     "output_type": "execute_result"
    }
   ],
   "source": [
    "from ast import literal_eval\n",
    "\n",
    "coords = pd.read_csv('./coords-df.csv',\n",
    "                     converters={\"start\": literal_eval,'end':literal_eval})\n",
    "coords"
   ]
  },
  {
   "cell_type": "code",
   "execution_count": 11,
   "metadata": {},
   "outputs": [
    {
     "data": {
      "text/html": [
       "<div>\n",
       "<style scoped>\n",
       "    .dataframe tbody tr th:only-of-type {\n",
       "        vertical-align: middle;\n",
       "    }\n",
       "\n",
       "    .dataframe tbody tr th {\n",
       "        vertical-align: top;\n",
       "    }\n",
       "\n",
       "    .dataframe thead th {\n",
       "        text-align: right;\n",
       "    }\n",
       "</style>\n",
       "<table border=\"1\" class=\"dataframe\">\n",
       "  <thead>\n",
       "    <tr style=\"text-align: right;\">\n",
       "      <th></th>\n",
       "      <th>start</th>\n",
       "      <th>end</th>\n",
       "      <th>text</th>\n",
       "    </tr>\n",
       "  </thead>\n",
       "  <tbody>\n",
       "    <tr>\n",
       "      <th>0</th>\n",
       "      <td>[47.55891039999999, -122.2854841]</td>\n",
       "      <td>[47.5586649, -122.2888154]</td>\n",
       "      <td>Fallen Power Line</td>\n",
       "    </tr>\n",
       "    <tr>\n",
       "      <th>1</th>\n",
       "      <td>[47.5628326, -122.2849706]</td>\n",
       "      <td>[47.5628256, -122.2878209]</td>\n",
       "      <td>Construction</td>\n",
       "    </tr>\n",
       "    <tr>\n",
       "      <th>2</th>\n",
       "      <td>[47.564117, -122.2807269]</td>\n",
       "      <td>[47.5605458, -122.280724]</td>\n",
       "      <td>Collision</td>\n",
       "    </tr>\n",
       "    <tr>\n",
       "      <th>3</th>\n",
       "      <td>[47.608222, -122.334897]</td>\n",
       "      <td>[47.610146, -122.336646]</td>\n",
       "      <td>Fallen Power Line</td>\n",
       "    </tr>\n",
       "    <tr>\n",
       "      <th>4</th>\n",
       "      <td>[47.607477, -122.33421]</td>\n",
       "      <td>[47.606116, -122.337564]</td>\n",
       "      <td>Construction</td>\n",
       "    </tr>\n",
       "    <tr>\n",
       "      <th>5</th>\n",
       "      <td>[47.60973, -122.33782]</td>\n",
       "      <td>[47.610663, -122.335567]</td>\n",
       "      <td>Collision</td>\n",
       "    </tr>\n",
       "  </tbody>\n",
       "</table>\n",
       "</div>"
      ],
      "text/plain": [
       "                               start                         end  \\\n",
       "0  [47.55891039999999, -122.2854841]  [47.5586649, -122.2888154]   \n",
       "1         [47.5628326, -122.2849706]  [47.5628256, -122.2878209]   \n",
       "2          [47.564117, -122.2807269]   [47.5605458, -122.280724]   \n",
       "3           [47.608222, -122.334897]    [47.610146, -122.336646]   \n",
       "4            [47.607477, -122.33421]    [47.606116, -122.337564]   \n",
       "5             [47.60973, -122.33782]    [47.610663, -122.335567]   \n",
       "\n",
       "                text  \n",
       "0  Fallen Power Line  \n",
       "1       Construction  \n",
       "2          Collision  \n",
       "3  Fallen Power Line  \n",
       "4       Construction  \n",
       "5          Collision  "
      ]
     },
     "execution_count": 11,
     "metadata": {},
     "output_type": "execute_result"
    }
   ],
   "source": [
    "df = intersect_to_coords(fake,coords)\n",
    "df"
   ]
  },
  {
   "cell_type": "code",
   "execution_count": 12,
   "metadata": {},
   "outputs": [
    {
     "data": {
      "text/plain": [
       "[47.608222, -122.334897]"
      ]
     },
     "execution_count": 12,
     "metadata": {},
     "output_type": "execute_result"
    }
   ],
   "source": [
    "# Misc. cell for checking formatting and datatypes of the new dataframe \n",
    "df.start[3]\n",
    "# for index,_ in df.iterrows():\n",
    "#     print(df.start[index])\n",
    "#     print(type(df.start[index]))\n",
    "#     print('---')\n",
    "#     print(df.end[index])\n",
    "#     print(type(df.end[index]))\n",
    "#     print('---')\n",
    "#     print(df.text[index])\n",
    "#     print(type(df.text[index]))\n",
    "#     print('*****')"
   ]
  },
  {
   "cell_type": "code",
   "execution_count": 13,
   "metadata": {},
   "outputs": [
    {
     "data": {
      "application/vnd.jupyter.widget-view+json": {
       "model_id": "66f93625f2344d88a551eb6f48e6debe",
       "version_major": 2,
       "version_minor": 0
      },
      "text/plain": [
       "Figure(layout=FigureLayout(height='400px', margin='0 auto 0 auto', padding='1px', width='700px'))"
      ]
     },
     "metadata": {},
     "output_type": "display_data"
    }
   ],
   "source": [
    "# and the final test:\n",
    "render_closures(df)"
   ]
  },
  {
   "cell_type": "markdown",
   "metadata": {},
   "source": [
    "## Mission accomplished!\n",
    "\n",
    "I manually saved the above function into another file in python_scripts for future use"
   ]
  },
  {
   "cell_type": "code",
   "execution_count": null,
   "metadata": {},
   "outputs": [],
   "source": []
  }
 ],
 "metadata": {
  "kernelspec": {
   "display_name": "Python 3",
   "language": "python",
   "name": "python3"
  },
  "language_info": {
   "codemirror_mode": {
    "name": "ipython",
    "version": 3
   },
   "file_extension": ".py",
   "mimetype": "text/x-python",
   "name": "python",
   "nbconvert_exporter": "python",
   "pygments_lexer": "ipython3",
   "version": "3.6.8"
  }
 },
 "nbformat": 4,
 "nbformat_minor": 2
}
